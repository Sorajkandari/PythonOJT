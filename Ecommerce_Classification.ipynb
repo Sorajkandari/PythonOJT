{
  "nbformat": 4,
  "nbformat_minor": 0,
  "metadata": {
    "colab": {
      "provenance": [],
      "collapsed_sections": []
    },
    "kernelspec": {
      "name": "python3",
      "display_name": "Python 3"
    },
    "language_info": {
      "name": "python"
    }
  },
  "cells": [
    {
      "cell_type": "code",
      "execution_count": null,
      "metadata": {
        "colab": {
          "base_uri": "https://localhost:8080/"
        },
        "id": "XTfWnYzy9B6u",
        "outputId": "dd3141cb-0e59-4249-e3cc-d7467192b87d"
      },
      "outputs": [
        {
          "output_type": "stream",
          "name": "stdout",
          "text": [
            "Mounted at /content/drive/\n"
          ]
        }
      ],
      "source": [
        "#Import Dependencies\n",
        "import numpy as np\n",
        "import pandas as pd\n",
        "import matplotlib.pyplot as plt\n",
        "\n",
        "from google.colab import drive\n",
        "drive.mount('/content/drive/')\n",
        "%matplotlib inline\n",
        "#%matplotlib qt\n",
        "\n",
        "import os"
      ]
    },
    {
      "cell_type": "code",
      "source": [
        "\n",
        "#Load Datasets\n",
        "\n",
        "# -1 should be treated as NULL, as per the problem statement.\n",
        "train = pd.read_csv('/content/drive/MyDrive/python practice /Ecommerce Classification/train.csv',delimiter=\",\", index_col=None, na_values='-1')\n",
        "test = pd.read_csv('/content/drive/MyDrive/python practice /Ecommerce Classification/test.csv',delimiter=\",\", index_col=None, na_values='-1')\n",
        "\n",
        "#Shape of the dataset\n",
        "print('Train data shape: ', train.shape)\n",
        "print('Test data shape: ', test.shape)"
      ],
      "metadata": {
        "colab": {
          "base_uri": "https://localhost:8080/"
        },
        "id": "2TtoXBb_9MAb",
        "outputId": "afc2f48a-6421-4ca6-f35b-5fc8359beb37"
      },
      "execution_count": null,
      "outputs": [
        {
          "output_type": "stream",
          "name": "stdout",
          "text": [
            "Train data shape:  (347841, 33)\n",
            "Test data shape:  (86961, 32)\n"
          ]
        }
      ]
    },
    {
      "cell_type": "code",
      "source": [
        "\n",
        "train.head()"
      ],
      "metadata": {
        "colab": {
          "base_uri": "https://localhost:8080/",
          "height": 299
        },
        "id": "4zXy5kV-9OST",
        "outputId": "449cb295-230a-410e-9d1f-8fa190b9f387"
      },
      "execution_count": null,
      "outputs": [
        {
          "output_type": "execute_result",
          "data": {
            "text/plain": [
              "   unique_id  metric1  metric2  metric6  metric3  metric4  metric5  \\\n",
              "0          1        4        1        2      5.0      5.0      0.0   \n",
              "1          2        0        1        1      0.0      0.0    100.0   \n",
              "2          3        0        1        6     37.2    186.0      0.0   \n",
              "3          4       24        1        1      0.0      0.0    100.0   \n",
              "4          5        0        1        1      0.0      4.0      0.0   \n",
              "\n",
              "   binary_var1                            region  \\\n",
              "0            0  84e516108956e6e374941043b5f73e86   \n",
              "1            0  185a5eb309e9ba14f65e6486f08b3032   \n",
              "2            1  84e516108956e6e374941043b5f73e86   \n",
              "3            0  185a5eb309e9ba14f65e6486f08b3032   \n",
              "4            0  3a2d6295a828fc1ec5084af382b61e35   \n",
              "\n",
              "                       sourceMedium  ... page4_top page4_exits  visited_page4  \\\n",
              "0  d3d55c19deb05c118cfed68910a1f6bd  ...       0.0         NaN              0   \n",
              "1  3a987a7bb0a840a40d80e301132f138c  ...       0.0         NaN              0   \n",
              "2  d3d55c19deb05c118cfed68910a1f6bd  ...       0.0         NaN              0   \n",
              "3  335cceef7d447b13ae8fc7c0e0a7e826  ...       0.0         NaN              0   \n",
              "4  335cceef7d447b13ae8fc7c0e0a7e826  ...       0.0         NaN              0   \n",
              "\n",
              "   page5_top  page5_exits  visited_page5  page6_top  page6_exits  \\\n",
              "0        0.0          NaN              0        0.0          NaN   \n",
              "1        0.0          NaN              0        0.0          NaN   \n",
              "2        0.0          NaN              0       30.0          0.0   \n",
              "3        0.0          NaN              0        0.0          1.0   \n",
              "4        0.0          NaN              0        0.0          NaN   \n",
              "\n",
              "   visited_page6  target  \n",
              "0              0       0  \n",
              "1              0       0  \n",
              "2              1       0  \n",
              "3              1       0  \n",
              "4              0       0  \n",
              "\n",
              "[5 rows x 33 columns]"
            ],
            "text/html": [
              "\n",
              "  <div id=\"df-60fd1e81-c380-4dca-87ce-5a214f4ce2f7\">\n",
              "    <div class=\"colab-df-container\">\n",
              "      <div>\n",
              "<style scoped>\n",
              "    .dataframe tbody tr th:only-of-type {\n",
              "        vertical-align: middle;\n",
              "    }\n",
              "\n",
              "    .dataframe tbody tr th {\n",
              "        vertical-align: top;\n",
              "    }\n",
              "\n",
              "    .dataframe thead th {\n",
              "        text-align: right;\n",
              "    }\n",
              "</style>\n",
              "<table border=\"1\" class=\"dataframe\">\n",
              "  <thead>\n",
              "    <tr style=\"text-align: right;\">\n",
              "      <th></th>\n",
              "      <th>unique_id</th>\n",
              "      <th>metric1</th>\n",
              "      <th>metric2</th>\n",
              "      <th>metric6</th>\n",
              "      <th>metric3</th>\n",
              "      <th>metric4</th>\n",
              "      <th>metric5</th>\n",
              "      <th>binary_var1</th>\n",
              "      <th>region</th>\n",
              "      <th>sourceMedium</th>\n",
              "      <th>...</th>\n",
              "      <th>page4_top</th>\n",
              "      <th>page4_exits</th>\n",
              "      <th>visited_page4</th>\n",
              "      <th>page5_top</th>\n",
              "      <th>page5_exits</th>\n",
              "      <th>visited_page5</th>\n",
              "      <th>page6_top</th>\n",
              "      <th>page6_exits</th>\n",
              "      <th>visited_page6</th>\n",
              "      <th>target</th>\n",
              "    </tr>\n",
              "  </thead>\n",
              "  <tbody>\n",
              "    <tr>\n",
              "      <th>0</th>\n",
              "      <td>1</td>\n",
              "      <td>4</td>\n",
              "      <td>1</td>\n",
              "      <td>2</td>\n",
              "      <td>5.0</td>\n",
              "      <td>5.0</td>\n",
              "      <td>0.0</td>\n",
              "      <td>0</td>\n",
              "      <td>84e516108956e6e374941043b5f73e86</td>\n",
              "      <td>d3d55c19deb05c118cfed68910a1f6bd</td>\n",
              "      <td>...</td>\n",
              "      <td>0.0</td>\n",
              "      <td>NaN</td>\n",
              "      <td>0</td>\n",
              "      <td>0.0</td>\n",
              "      <td>NaN</td>\n",
              "      <td>0</td>\n",
              "      <td>0.0</td>\n",
              "      <td>NaN</td>\n",
              "      <td>0</td>\n",
              "      <td>0</td>\n",
              "    </tr>\n",
              "    <tr>\n",
              "      <th>1</th>\n",
              "      <td>2</td>\n",
              "      <td>0</td>\n",
              "      <td>1</td>\n",
              "      <td>1</td>\n",
              "      <td>0.0</td>\n",
              "      <td>0.0</td>\n",
              "      <td>100.0</td>\n",
              "      <td>0</td>\n",
              "      <td>185a5eb309e9ba14f65e6486f08b3032</td>\n",
              "      <td>3a987a7bb0a840a40d80e301132f138c</td>\n",
              "      <td>...</td>\n",
              "      <td>0.0</td>\n",
              "      <td>NaN</td>\n",
              "      <td>0</td>\n",
              "      <td>0.0</td>\n",
              "      <td>NaN</td>\n",
              "      <td>0</td>\n",
              "      <td>0.0</td>\n",
              "      <td>NaN</td>\n",
              "      <td>0</td>\n",
              "      <td>0</td>\n",
              "    </tr>\n",
              "    <tr>\n",
              "      <th>2</th>\n",
              "      <td>3</td>\n",
              "      <td>0</td>\n",
              "      <td>1</td>\n",
              "      <td>6</td>\n",
              "      <td>37.2</td>\n",
              "      <td>186.0</td>\n",
              "      <td>0.0</td>\n",
              "      <td>1</td>\n",
              "      <td>84e516108956e6e374941043b5f73e86</td>\n",
              "      <td>d3d55c19deb05c118cfed68910a1f6bd</td>\n",
              "      <td>...</td>\n",
              "      <td>0.0</td>\n",
              "      <td>NaN</td>\n",
              "      <td>0</td>\n",
              "      <td>0.0</td>\n",
              "      <td>NaN</td>\n",
              "      <td>0</td>\n",
              "      <td>30.0</td>\n",
              "      <td>0.0</td>\n",
              "      <td>1</td>\n",
              "      <td>0</td>\n",
              "    </tr>\n",
              "    <tr>\n",
              "      <th>3</th>\n",
              "      <td>4</td>\n",
              "      <td>24</td>\n",
              "      <td>1</td>\n",
              "      <td>1</td>\n",
              "      <td>0.0</td>\n",
              "      <td>0.0</td>\n",
              "      <td>100.0</td>\n",
              "      <td>0</td>\n",
              "      <td>185a5eb309e9ba14f65e6486f08b3032</td>\n",
              "      <td>335cceef7d447b13ae8fc7c0e0a7e826</td>\n",
              "      <td>...</td>\n",
              "      <td>0.0</td>\n",
              "      <td>NaN</td>\n",
              "      <td>0</td>\n",
              "      <td>0.0</td>\n",
              "      <td>NaN</td>\n",
              "      <td>0</td>\n",
              "      <td>0.0</td>\n",
              "      <td>1.0</td>\n",
              "      <td>1</td>\n",
              "      <td>0</td>\n",
              "    </tr>\n",
              "    <tr>\n",
              "      <th>4</th>\n",
              "      <td>5</td>\n",
              "      <td>0</td>\n",
              "      <td>1</td>\n",
              "      <td>1</td>\n",
              "      <td>0.0</td>\n",
              "      <td>4.0</td>\n",
              "      <td>0.0</td>\n",
              "      <td>0</td>\n",
              "      <td>3a2d6295a828fc1ec5084af382b61e35</td>\n",
              "      <td>335cceef7d447b13ae8fc7c0e0a7e826</td>\n",
              "      <td>...</td>\n",
              "      <td>0.0</td>\n",
              "      <td>NaN</td>\n",
              "      <td>0</td>\n",
              "      <td>0.0</td>\n",
              "      <td>NaN</td>\n",
              "      <td>0</td>\n",
              "      <td>0.0</td>\n",
              "      <td>NaN</td>\n",
              "      <td>0</td>\n",
              "      <td>0</td>\n",
              "    </tr>\n",
              "  </tbody>\n",
              "</table>\n",
              "<p>5 rows × 33 columns</p>\n",
              "</div>\n",
              "      <button class=\"colab-df-convert\" onclick=\"convertToInteractive('df-60fd1e81-c380-4dca-87ce-5a214f4ce2f7')\"\n",
              "              title=\"Convert this dataframe to an interactive table.\"\n",
              "              style=\"display:none;\">\n",
              "        \n",
              "  <svg xmlns=\"http://www.w3.org/2000/svg\" height=\"24px\"viewBox=\"0 0 24 24\"\n",
              "       width=\"24px\">\n",
              "    <path d=\"M0 0h24v24H0V0z\" fill=\"none\"/>\n",
              "    <path d=\"M18.56 5.44l.94 2.06.94-2.06 2.06-.94-2.06-.94-.94-2.06-.94 2.06-2.06.94zm-11 1L8.5 8.5l.94-2.06 2.06-.94-2.06-.94L8.5 2.5l-.94 2.06-2.06.94zm10 10l.94 2.06.94-2.06 2.06-.94-2.06-.94-.94-2.06-.94 2.06-2.06.94z\"/><path d=\"M17.41 7.96l-1.37-1.37c-.4-.4-.92-.59-1.43-.59-.52 0-1.04.2-1.43.59L10.3 9.45l-7.72 7.72c-.78.78-.78 2.05 0 2.83L4 21.41c.39.39.9.59 1.41.59.51 0 1.02-.2 1.41-.59l7.78-7.78 2.81-2.81c.8-.78.8-2.07 0-2.86zM5.41 20L4 18.59l7.72-7.72 1.47 1.35L5.41 20z\"/>\n",
              "  </svg>\n",
              "      </button>\n",
              "      \n",
              "  <style>\n",
              "    .colab-df-container {\n",
              "      display:flex;\n",
              "      flex-wrap:wrap;\n",
              "      gap: 12px;\n",
              "    }\n",
              "\n",
              "    .colab-df-convert {\n",
              "      background-color: #E8F0FE;\n",
              "      border: none;\n",
              "      border-radius: 50%;\n",
              "      cursor: pointer;\n",
              "      display: none;\n",
              "      fill: #1967D2;\n",
              "      height: 32px;\n",
              "      padding: 0 0 0 0;\n",
              "      width: 32px;\n",
              "    }\n",
              "\n",
              "    .colab-df-convert:hover {\n",
              "      background-color: #E2EBFA;\n",
              "      box-shadow: 0px 1px 2px rgba(60, 64, 67, 0.3), 0px 1px 3px 1px rgba(60, 64, 67, 0.15);\n",
              "      fill: #174EA6;\n",
              "    }\n",
              "\n",
              "    [theme=dark] .colab-df-convert {\n",
              "      background-color: #3B4455;\n",
              "      fill: #D2E3FC;\n",
              "    }\n",
              "\n",
              "    [theme=dark] .colab-df-convert:hover {\n",
              "      background-color: #434B5C;\n",
              "      box-shadow: 0px 1px 3px 1px rgba(0, 0, 0, 0.15);\n",
              "      filter: drop-shadow(0px 1px 2px rgba(0, 0, 0, 0.3));\n",
              "      fill: #FFFFFF;\n",
              "    }\n",
              "  </style>\n",
              "\n",
              "      <script>\n",
              "        const buttonEl =\n",
              "          document.querySelector('#df-60fd1e81-c380-4dca-87ce-5a214f4ce2f7 button.colab-df-convert');\n",
              "        buttonEl.style.display =\n",
              "          google.colab.kernel.accessAllowed ? 'block' : 'none';\n",
              "\n",
              "        async function convertToInteractive(key) {\n",
              "          const element = document.querySelector('#df-60fd1e81-c380-4dca-87ce-5a214f4ce2f7');\n",
              "          const dataTable =\n",
              "            await google.colab.kernel.invokeFunction('convertToInteractive',\n",
              "                                                     [key], {});\n",
              "          if (!dataTable) return;\n",
              "\n",
              "          const docLinkHtml = 'Like what you see? Visit the ' +\n",
              "            '<a target=\"_blank\" href=https://colab.research.google.com/notebooks/data_table.ipynb>data table notebook</a>'\n",
              "            + ' to learn more about interactive tables.';\n",
              "          element.innerHTML = '';\n",
              "          dataTable['output_type'] = 'display_data';\n",
              "          await google.colab.output.renderOutput(dataTable, element);\n",
              "          const docLink = document.createElement('div');\n",
              "          docLink.innerHTML = docLinkHtml;\n",
              "          element.appendChild(docLink);\n",
              "        }\n",
              "      </script>\n",
              "    </div>\n",
              "  </div>\n",
              "  "
            ]
          },
          "metadata": {},
          "execution_count": 10
        }
      ]
    },
    {
      "cell_type": "code",
      "source": [
        "# Column wise Nulls\n",
        "\n",
        "null_columns=train.columns[train.isnull().any()]\n",
        "null_ = train[null_columns].isnull().sum()\n",
        "train_w_null_cols = (null_/train.shape[0])*100 \n",
        "print (train_w_null_cols)"
      ],
      "metadata": {
        "colab": {
          "base_uri": "https://localhost:8080/"
        },
        "id": "aBGnUom99T5T",
        "outputId": "89628f3b-ba7b-4868-d1e8-1917131786e2"
      },
      "execution_count": null,
      "outputs": [
        {
          "output_type": "stream",
          "name": "stdout",
          "text": [
            "page1_exits    98.505927\n",
            "page2_exits    99.989363\n",
            "page3_exits    91.757153\n",
            "page4_exits    98.269324\n",
            "page5_exits    99.808533\n",
            "page6_exits    55.573380\n",
            "dtype: float64\n"
          ]
        }
      ]
    },
    {
      "cell_type": "code",
      "source": [
        "## All the above columns has more than \"50%\" of its value as Null, \n",
        "## So there is not much information avaialble to explain 'target'\n",
        "\n",
        "#### Removing those columns:\n",
        "drop_col = train_w_null_cols.index.tolist()\n",
        "train.drop(drop_col, axis = 1, inplace=True)\n",
        "print ('Train size after dropping columns: ', train.shape)"
      ],
      "metadata": {
        "colab": {
          "base_uri": "https://localhost:8080/"
        },
        "id": "CWpVSRhY9V1b",
        "outputId": "9ecadc9c-8ac4-48d3-e9d8-c90186d0473e"
      },
      "execution_count": null,
      "outputs": [
        {
          "output_type": "stream",
          "name": "stdout",
          "text": [
            "Train size after dropping columns:  (347841, 27)\n"
          ]
        }
      ]
    },
    {
      "cell_type": "code",
      "source": [
        "# Row wise Nulls\n",
        "\n",
        "def num_missing(x):\n",
        "    return sum(x.isnull())\n",
        "\n",
        "train_row = train.apply(num_missing, axis=1) #axis=1 defines that function is to be applied on each row\n",
        "\n",
        "df1 = pd.DataFrame(index=train_row.index)\n",
        "df1['value'] = train_row\n",
        "\n",
        "threshold = np.round(train.shape[1] * 0.20)\n",
        "\n",
        "df2 = df1[df1.value > threshold]\n",
        "null_row_index = df2.index"
      ],
      "metadata": {
        "id": "mDPvpe5K9X0L"
      },
      "execution_count": null,
      "outputs": []
    },
    {
      "cell_type": "markdown",
      "source": [],
      "metadata": {
        "id": "7KsGWJyIAPR0"
      }
    },
    {
      "cell_type": "code",
      "source": [
        "\n",
        "## Check for class imabalance in target\n",
        "train.target.value_counts()"
      ],
      "metadata": {
        "colab": {
          "base_uri": "https://localhost:8080/"
        },
        "id": "40N5tYWd9buk",
        "outputId": "36122786-1419-4dc7-84a6-ccfcdb19baa8"
      },
      "execution_count": null,
      "outputs": [
        {
          "output_type": "execute_result",
          "data": {
            "text/plain": [
              "0    316036\n",
              "1     31805\n",
              "Name: target, dtype: int64"
            ]
          },
          "metadata": {},
          "execution_count": 15
        }
      ]
    },
    {
      "cell_type": "code",
      "source": [
        "# Page1_Visited means whether unique id has visited the page or not => categorical\n",
        "for col in ['visited_page1', 'visited_page2', 'visited_page3',  'visited_page4', 'visited_page5', 'visited_page6']:\n",
        "    train[col] = train[col].astype('category')\n",
        "\n",
        "# Binary_Var contains binary values\n",
        "for col in ['binary_var1', 'binary_var2']:\n",
        "    train[col] = train[col].astype('category')\n",
        "\n",
        "# region/sourceMedium/country/device are also treated categorical\n",
        "for col in ['region', 'sourceMedium', 'device', 'country']:\n",
        "    train[col] = train[col].astype('category')\n",
        "\n",
        "train['target'] = train['target'].astype('category')"
      ],
      "metadata": {
        "id": "YZwK6g8M9dV7"
      },
      "execution_count": null,
      "outputs": []
    },
    {
      "cell_type": "code",
      "source": [
        "\n",
        "import scipy.stats as scs\n",
        "\n",
        "## Chi-square analysis on all categorical variables w.r.t target variable:\n",
        "cat_cols = ['visited_page1', 'visited_page2', 'visited_page3',  'visited_page4', 'visited_page5', 'visited_page6',\n",
        "            'binary_var1', 'binary_var2', 'region', 'sourceMedium', 'device', 'country']\n",
        "print ('*==Chi2 analysis wrt target==*')\n",
        "\n",
        "rec_ = []\n",
        "for col in cat_cols:\n",
        "    chi2 = scs.chi2_contingency(pd.crosstab(index=train[col],columns=train['target']))\n",
        "    rec = chi2[0:3]\n",
        "    rec_.append(rec)\n",
        "    \n",
        "rec_tab = pd.DataFrame(rec_, columns = ['chi2_statistic', 'p_value', 'degrees_of_freedom'])\n",
        "rec_tab.index = cat_cols\n",
        "rec_tab"
      ],
      "metadata": {
        "colab": {
          "base_uri": "https://localhost:8080/",
          "height": 443
        },
        "id": "1_Nm_VUq9g4j",
        "outputId": "d019417a-4cb9-4915-e45e-b7444e7ff759"
      },
      "execution_count": null,
      "outputs": [
        {
          "output_type": "stream",
          "name": "stdout",
          "text": [
            "*==Chi2 analysis wrt target==*\n"
          ]
        },
        {
          "output_type": "execute_result",
          "data": {
            "text/plain": [
              "               chi2_statistic        p_value  degrees_of_freedom\n",
              "visited_page1      413.413665   6.623182e-92                   1\n",
              "visited_page2        0.004445   9.468411e-01                   1\n",
              "visited_page3     4976.188142   0.000000e+00                   1\n",
              "visited_page4       51.478897   7.237086e-13                   1\n",
              "visited_page5       18.087204   2.110148e-05                   1\n",
              "visited_page6     1216.158657  1.877550e-266                   1\n",
              "binary_var1      17808.556720   0.000000e+00                   1\n",
              "binary_var2      39757.633605   0.000000e+00                   1\n",
              "region           15094.784886   0.000000e+00                 562\n",
              "sourceMedium     46616.356384   0.000000e+00                 461\n",
              "device            9406.275035   0.000000e+00                   2\n",
              "country          14646.919408   0.000000e+00                 153"
            ],
            "text/html": [
              "\n",
              "  <div id=\"df-e5e992f3-0aeb-43a2-820f-ead10d12239c\">\n",
              "    <div class=\"colab-df-container\">\n",
              "      <div>\n",
              "<style scoped>\n",
              "    .dataframe tbody tr th:only-of-type {\n",
              "        vertical-align: middle;\n",
              "    }\n",
              "\n",
              "    .dataframe tbody tr th {\n",
              "        vertical-align: top;\n",
              "    }\n",
              "\n",
              "    .dataframe thead th {\n",
              "        text-align: right;\n",
              "    }\n",
              "</style>\n",
              "<table border=\"1\" class=\"dataframe\">\n",
              "  <thead>\n",
              "    <tr style=\"text-align: right;\">\n",
              "      <th></th>\n",
              "      <th>chi2_statistic</th>\n",
              "      <th>p_value</th>\n",
              "      <th>degrees_of_freedom</th>\n",
              "    </tr>\n",
              "  </thead>\n",
              "  <tbody>\n",
              "    <tr>\n",
              "      <th>visited_page1</th>\n",
              "      <td>413.413665</td>\n",
              "      <td>6.623182e-92</td>\n",
              "      <td>1</td>\n",
              "    </tr>\n",
              "    <tr>\n",
              "      <th>visited_page2</th>\n",
              "      <td>0.004445</td>\n",
              "      <td>9.468411e-01</td>\n",
              "      <td>1</td>\n",
              "    </tr>\n",
              "    <tr>\n",
              "      <th>visited_page3</th>\n",
              "      <td>4976.188142</td>\n",
              "      <td>0.000000e+00</td>\n",
              "      <td>1</td>\n",
              "    </tr>\n",
              "    <tr>\n",
              "      <th>visited_page4</th>\n",
              "      <td>51.478897</td>\n",
              "      <td>7.237086e-13</td>\n",
              "      <td>1</td>\n",
              "    </tr>\n",
              "    <tr>\n",
              "      <th>visited_page5</th>\n",
              "      <td>18.087204</td>\n",
              "      <td>2.110148e-05</td>\n",
              "      <td>1</td>\n",
              "    </tr>\n",
              "    <tr>\n",
              "      <th>visited_page6</th>\n",
              "      <td>1216.158657</td>\n",
              "      <td>1.877550e-266</td>\n",
              "      <td>1</td>\n",
              "    </tr>\n",
              "    <tr>\n",
              "      <th>binary_var1</th>\n",
              "      <td>17808.556720</td>\n",
              "      <td>0.000000e+00</td>\n",
              "      <td>1</td>\n",
              "    </tr>\n",
              "    <tr>\n",
              "      <th>binary_var2</th>\n",
              "      <td>39757.633605</td>\n",
              "      <td>0.000000e+00</td>\n",
              "      <td>1</td>\n",
              "    </tr>\n",
              "    <tr>\n",
              "      <th>region</th>\n",
              "      <td>15094.784886</td>\n",
              "      <td>0.000000e+00</td>\n",
              "      <td>562</td>\n",
              "    </tr>\n",
              "    <tr>\n",
              "      <th>sourceMedium</th>\n",
              "      <td>46616.356384</td>\n",
              "      <td>0.000000e+00</td>\n",
              "      <td>461</td>\n",
              "    </tr>\n",
              "    <tr>\n",
              "      <th>device</th>\n",
              "      <td>9406.275035</td>\n",
              "      <td>0.000000e+00</td>\n",
              "      <td>2</td>\n",
              "    </tr>\n",
              "    <tr>\n",
              "      <th>country</th>\n",
              "      <td>14646.919408</td>\n",
              "      <td>0.000000e+00</td>\n",
              "      <td>153</td>\n",
              "    </tr>\n",
              "  </tbody>\n",
              "</table>\n",
              "</div>\n",
              "      <button class=\"colab-df-convert\" onclick=\"convertToInteractive('df-e5e992f3-0aeb-43a2-820f-ead10d12239c')\"\n",
              "              title=\"Convert this dataframe to an interactive table.\"\n",
              "              style=\"display:none;\">\n",
              "        \n",
              "  <svg xmlns=\"http://www.w3.org/2000/svg\" height=\"24px\"viewBox=\"0 0 24 24\"\n",
              "       width=\"24px\">\n",
              "    <path d=\"M0 0h24v24H0V0z\" fill=\"none\"/>\n",
              "    <path d=\"M18.56 5.44l.94 2.06.94-2.06 2.06-.94-2.06-.94-.94-2.06-.94 2.06-2.06.94zm-11 1L8.5 8.5l.94-2.06 2.06-.94-2.06-.94L8.5 2.5l-.94 2.06-2.06.94zm10 10l.94 2.06.94-2.06 2.06-.94-2.06-.94-.94-2.06-.94 2.06-2.06.94z\"/><path d=\"M17.41 7.96l-1.37-1.37c-.4-.4-.92-.59-1.43-.59-.52 0-1.04.2-1.43.59L10.3 9.45l-7.72 7.72c-.78.78-.78 2.05 0 2.83L4 21.41c.39.39.9.59 1.41.59.51 0 1.02-.2 1.41-.59l7.78-7.78 2.81-2.81c.8-.78.8-2.07 0-2.86zM5.41 20L4 18.59l7.72-7.72 1.47 1.35L5.41 20z\"/>\n",
              "  </svg>\n",
              "      </button>\n",
              "      \n",
              "  <style>\n",
              "    .colab-df-container {\n",
              "      display:flex;\n",
              "      flex-wrap:wrap;\n",
              "      gap: 12px;\n",
              "    }\n",
              "\n",
              "    .colab-df-convert {\n",
              "      background-color: #E8F0FE;\n",
              "      border: none;\n",
              "      border-radius: 50%;\n",
              "      cursor: pointer;\n",
              "      display: none;\n",
              "      fill: #1967D2;\n",
              "      height: 32px;\n",
              "      padding: 0 0 0 0;\n",
              "      width: 32px;\n",
              "    }\n",
              "\n",
              "    .colab-df-convert:hover {\n",
              "      background-color: #E2EBFA;\n",
              "      box-shadow: 0px 1px 2px rgba(60, 64, 67, 0.3), 0px 1px 3px 1px rgba(60, 64, 67, 0.15);\n",
              "      fill: #174EA6;\n",
              "    }\n",
              "\n",
              "    [theme=dark] .colab-df-convert {\n",
              "      background-color: #3B4455;\n",
              "      fill: #D2E3FC;\n",
              "    }\n",
              "\n",
              "    [theme=dark] .colab-df-convert:hover {\n",
              "      background-color: #434B5C;\n",
              "      box-shadow: 0px 1px 3px 1px rgba(0, 0, 0, 0.15);\n",
              "      filter: drop-shadow(0px 1px 2px rgba(0, 0, 0, 0.3));\n",
              "      fill: #FFFFFF;\n",
              "    }\n",
              "  </style>\n",
              "\n",
              "      <script>\n",
              "        const buttonEl =\n",
              "          document.querySelector('#df-e5e992f3-0aeb-43a2-820f-ead10d12239c button.colab-df-convert');\n",
              "        buttonEl.style.display =\n",
              "          google.colab.kernel.accessAllowed ? 'block' : 'none';\n",
              "\n",
              "        async function convertToInteractive(key) {\n",
              "          const element = document.querySelector('#df-e5e992f3-0aeb-43a2-820f-ead10d12239c');\n",
              "          const dataTable =\n",
              "            await google.colab.kernel.invokeFunction('convertToInteractive',\n",
              "                                                     [key], {});\n",
              "          if (!dataTable) return;\n",
              "\n",
              "          const docLinkHtml = 'Like what you see? Visit the ' +\n",
              "            '<a target=\"_blank\" href=https://colab.research.google.com/notebooks/data_table.ipynb>data table notebook</a>'\n",
              "            + ' to learn more about interactive tables.';\n",
              "          element.innerHTML = '';\n",
              "          dataTable['output_type'] = 'display_data';\n",
              "          await google.colab.output.renderOutput(dataTable, element);\n",
              "          const docLink = document.createElement('div');\n",
              "          docLink.innerHTML = docLinkHtml;\n",
              "          element.appendChild(docLink);\n",
              "        }\n",
              "      </script>\n",
              "    </div>\n",
              "  </div>\n",
              "  "
            ]
          },
          "metadata": {},
          "execution_count": 20
        }
      ]
    },
    {
      "cell_type": "code",
      "source": [
        "\n",
        "# working with numerical columns to see if there is any relation\n",
        "\n",
        "#excluding dayhourminute column for now\n",
        "num_cols = ['metric1', 'metric2', 'metric3', 'metric4', 'metric5','metric6', 'page1_top', 'page2_top', 'page3_top', 'page4_top',\n",
        "           'page5_top', 'page6_top']\n",
        "\n",
        "num_data = train[num_cols]"
      ],
      "metadata": {
        "id": "RIX6R6PH9jjr"
      },
      "execution_count": null,
      "outputs": []
    },
    {
      "cell_type": "code",
      "source": [
        "## Correlation between all numeric column variables\n",
        "num_data.corr()"
      ],
      "metadata": {
        "colab": {
          "base_uri": "https://localhost:8080/",
          "height": 426
        },
        "id": "cUJCcBga9lhj",
        "outputId": "d41b98ed-395d-441c-81a0-db9c45c48c30"
      },
      "execution_count": null,
      "outputs": [
        {
          "output_type": "execute_result",
          "data": {
            "text/plain": [
              "            metric1   metric2   metric3   metric4   metric5   metric6  \\\n",
              "metric1    1.000000 -0.008537  0.009634  0.004209 -0.031370 -0.015225   \n",
              "metric2   -0.008537  1.000000  0.155708  0.166962 -0.098065  0.474780   \n",
              "metric3    0.009634  0.155708  1.000000  0.523589 -0.347091  0.122781   \n",
              "metric4    0.004209  0.166962  0.523589  1.000000 -0.377635  0.505131   \n",
              "metric5   -0.031370 -0.098065 -0.347091 -0.377635  1.000000 -0.297294   \n",
              "metric6   -0.015225  0.474780  0.122781  0.505131 -0.297294  1.000000   \n",
              "page1_top  0.001031  0.031139  0.059809  0.072670 -0.034220  0.044048   \n",
              "page2_top -0.000667  0.017599  0.006426  0.010511 -0.003459  0.018550   \n",
              "page3_top  0.004716  0.084436  0.154935  0.187027 -0.091830  0.100708   \n",
              "page4_top  0.001086  0.026918  0.048063  0.068701 -0.040796  0.043128   \n",
              "page5_top  0.002267  0.013206  0.017685  0.035177 -0.012791  0.021154   \n",
              "page6_top  0.013038  0.163855  0.465361  0.371861 -0.228760  0.167633   \n",
              "\n",
              "           page1_top  page2_top  page3_top  page4_top  page5_top  page6_top  \n",
              "metric1     0.001031  -0.000667   0.004716   0.001086   0.002267   0.013038  \n",
              "metric2     0.031139   0.017599   0.084436   0.026918   0.013206   0.163855  \n",
              "metric3     0.059809   0.006426   0.154935   0.048063   0.017685   0.465361  \n",
              "metric4     0.072670   0.010511   0.187027   0.068701   0.035177   0.371861  \n",
              "metric5    -0.034220  -0.003459  -0.091830  -0.040796  -0.012791  -0.228760  \n",
              "metric6     0.044048   0.018550   0.100708   0.043128   0.021154   0.167633  \n",
              "page1_top   1.000000   0.012238   0.043315   0.046827   0.020456   0.014232  \n",
              "page2_top   0.012238   1.000000   0.025778   0.001379  -0.000094   0.005923  \n",
              "page3_top   0.043315   0.025778   1.000000   0.042171   0.014336   0.047500  \n",
              "page4_top   0.046827   0.001379   0.042171   1.000000   0.017078   0.018260  \n",
              "page5_top   0.020456  -0.000094   0.014336   0.017078   1.000000   0.002328  \n",
              "page6_top   0.014232   0.005923   0.047500   0.018260   0.002328   1.000000  "
            ],
            "text/html": [
              "\n",
              "  <div id=\"df-61786197-bf0a-4ab3-9e1f-f55ba44d033c\">\n",
              "    <div class=\"colab-df-container\">\n",
              "      <div>\n",
              "<style scoped>\n",
              "    .dataframe tbody tr th:only-of-type {\n",
              "        vertical-align: middle;\n",
              "    }\n",
              "\n",
              "    .dataframe tbody tr th {\n",
              "        vertical-align: top;\n",
              "    }\n",
              "\n",
              "    .dataframe thead th {\n",
              "        text-align: right;\n",
              "    }\n",
              "</style>\n",
              "<table border=\"1\" class=\"dataframe\">\n",
              "  <thead>\n",
              "    <tr style=\"text-align: right;\">\n",
              "      <th></th>\n",
              "      <th>metric1</th>\n",
              "      <th>metric2</th>\n",
              "      <th>metric3</th>\n",
              "      <th>metric4</th>\n",
              "      <th>metric5</th>\n",
              "      <th>metric6</th>\n",
              "      <th>page1_top</th>\n",
              "      <th>page2_top</th>\n",
              "      <th>page3_top</th>\n",
              "      <th>page4_top</th>\n",
              "      <th>page5_top</th>\n",
              "      <th>page6_top</th>\n",
              "    </tr>\n",
              "  </thead>\n",
              "  <tbody>\n",
              "    <tr>\n",
              "      <th>metric1</th>\n",
              "      <td>1.000000</td>\n",
              "      <td>-0.008537</td>\n",
              "      <td>0.009634</td>\n",
              "      <td>0.004209</td>\n",
              "      <td>-0.031370</td>\n",
              "      <td>-0.015225</td>\n",
              "      <td>0.001031</td>\n",
              "      <td>-0.000667</td>\n",
              "      <td>0.004716</td>\n",
              "      <td>0.001086</td>\n",
              "      <td>0.002267</td>\n",
              "      <td>0.013038</td>\n",
              "    </tr>\n",
              "    <tr>\n",
              "      <th>metric2</th>\n",
              "      <td>-0.008537</td>\n",
              "      <td>1.000000</td>\n",
              "      <td>0.155708</td>\n",
              "      <td>0.166962</td>\n",
              "      <td>-0.098065</td>\n",
              "      <td>0.474780</td>\n",
              "      <td>0.031139</td>\n",
              "      <td>0.017599</td>\n",
              "      <td>0.084436</td>\n",
              "      <td>0.026918</td>\n",
              "      <td>0.013206</td>\n",
              "      <td>0.163855</td>\n",
              "    </tr>\n",
              "    <tr>\n",
              "      <th>metric3</th>\n",
              "      <td>0.009634</td>\n",
              "      <td>0.155708</td>\n",
              "      <td>1.000000</td>\n",
              "      <td>0.523589</td>\n",
              "      <td>-0.347091</td>\n",
              "      <td>0.122781</td>\n",
              "      <td>0.059809</td>\n",
              "      <td>0.006426</td>\n",
              "      <td>0.154935</td>\n",
              "      <td>0.048063</td>\n",
              "      <td>0.017685</td>\n",
              "      <td>0.465361</td>\n",
              "    </tr>\n",
              "    <tr>\n",
              "      <th>metric4</th>\n",
              "      <td>0.004209</td>\n",
              "      <td>0.166962</td>\n",
              "      <td>0.523589</td>\n",
              "      <td>1.000000</td>\n",
              "      <td>-0.377635</td>\n",
              "      <td>0.505131</td>\n",
              "      <td>0.072670</td>\n",
              "      <td>0.010511</td>\n",
              "      <td>0.187027</td>\n",
              "      <td>0.068701</td>\n",
              "      <td>0.035177</td>\n",
              "      <td>0.371861</td>\n",
              "    </tr>\n",
              "    <tr>\n",
              "      <th>metric5</th>\n",
              "      <td>-0.031370</td>\n",
              "      <td>-0.098065</td>\n",
              "      <td>-0.347091</td>\n",
              "      <td>-0.377635</td>\n",
              "      <td>1.000000</td>\n",
              "      <td>-0.297294</td>\n",
              "      <td>-0.034220</td>\n",
              "      <td>-0.003459</td>\n",
              "      <td>-0.091830</td>\n",
              "      <td>-0.040796</td>\n",
              "      <td>-0.012791</td>\n",
              "      <td>-0.228760</td>\n",
              "    </tr>\n",
              "    <tr>\n",
              "      <th>metric6</th>\n",
              "      <td>-0.015225</td>\n",
              "      <td>0.474780</td>\n",
              "      <td>0.122781</td>\n",
              "      <td>0.505131</td>\n",
              "      <td>-0.297294</td>\n",
              "      <td>1.000000</td>\n",
              "      <td>0.044048</td>\n",
              "      <td>0.018550</td>\n",
              "      <td>0.100708</td>\n",
              "      <td>0.043128</td>\n",
              "      <td>0.021154</td>\n",
              "      <td>0.167633</td>\n",
              "    </tr>\n",
              "    <tr>\n",
              "      <th>page1_top</th>\n",
              "      <td>0.001031</td>\n",
              "      <td>0.031139</td>\n",
              "      <td>0.059809</td>\n",
              "      <td>0.072670</td>\n",
              "      <td>-0.034220</td>\n",
              "      <td>0.044048</td>\n",
              "      <td>1.000000</td>\n",
              "      <td>0.012238</td>\n",
              "      <td>0.043315</td>\n",
              "      <td>0.046827</td>\n",
              "      <td>0.020456</td>\n",
              "      <td>0.014232</td>\n",
              "    </tr>\n",
              "    <tr>\n",
              "      <th>page2_top</th>\n",
              "      <td>-0.000667</td>\n",
              "      <td>0.017599</td>\n",
              "      <td>0.006426</td>\n",
              "      <td>0.010511</td>\n",
              "      <td>-0.003459</td>\n",
              "      <td>0.018550</td>\n",
              "      <td>0.012238</td>\n",
              "      <td>1.000000</td>\n",
              "      <td>0.025778</td>\n",
              "      <td>0.001379</td>\n",
              "      <td>-0.000094</td>\n",
              "      <td>0.005923</td>\n",
              "    </tr>\n",
              "    <tr>\n",
              "      <th>page3_top</th>\n",
              "      <td>0.004716</td>\n",
              "      <td>0.084436</td>\n",
              "      <td>0.154935</td>\n",
              "      <td>0.187027</td>\n",
              "      <td>-0.091830</td>\n",
              "      <td>0.100708</td>\n",
              "      <td>0.043315</td>\n",
              "      <td>0.025778</td>\n",
              "      <td>1.000000</td>\n",
              "      <td>0.042171</td>\n",
              "      <td>0.014336</td>\n",
              "      <td>0.047500</td>\n",
              "    </tr>\n",
              "    <tr>\n",
              "      <th>page4_top</th>\n",
              "      <td>0.001086</td>\n",
              "      <td>0.026918</td>\n",
              "      <td>0.048063</td>\n",
              "      <td>0.068701</td>\n",
              "      <td>-0.040796</td>\n",
              "      <td>0.043128</td>\n",
              "      <td>0.046827</td>\n",
              "      <td>0.001379</td>\n",
              "      <td>0.042171</td>\n",
              "      <td>1.000000</td>\n",
              "      <td>0.017078</td>\n",
              "      <td>0.018260</td>\n",
              "    </tr>\n",
              "    <tr>\n",
              "      <th>page5_top</th>\n",
              "      <td>0.002267</td>\n",
              "      <td>0.013206</td>\n",
              "      <td>0.017685</td>\n",
              "      <td>0.035177</td>\n",
              "      <td>-0.012791</td>\n",
              "      <td>0.021154</td>\n",
              "      <td>0.020456</td>\n",
              "      <td>-0.000094</td>\n",
              "      <td>0.014336</td>\n",
              "      <td>0.017078</td>\n",
              "      <td>1.000000</td>\n",
              "      <td>0.002328</td>\n",
              "    </tr>\n",
              "    <tr>\n",
              "      <th>page6_top</th>\n",
              "      <td>0.013038</td>\n",
              "      <td>0.163855</td>\n",
              "      <td>0.465361</td>\n",
              "      <td>0.371861</td>\n",
              "      <td>-0.228760</td>\n",
              "      <td>0.167633</td>\n",
              "      <td>0.014232</td>\n",
              "      <td>0.005923</td>\n",
              "      <td>0.047500</td>\n",
              "      <td>0.018260</td>\n",
              "      <td>0.002328</td>\n",
              "      <td>1.000000</td>\n",
              "    </tr>\n",
              "  </tbody>\n",
              "</table>\n",
              "</div>\n",
              "      <button class=\"colab-df-convert\" onclick=\"convertToInteractive('df-61786197-bf0a-4ab3-9e1f-f55ba44d033c')\"\n",
              "              title=\"Convert this dataframe to an interactive table.\"\n",
              "              style=\"display:none;\">\n",
              "        \n",
              "  <svg xmlns=\"http://www.w3.org/2000/svg\" height=\"24px\"viewBox=\"0 0 24 24\"\n",
              "       width=\"24px\">\n",
              "    <path d=\"M0 0h24v24H0V0z\" fill=\"none\"/>\n",
              "    <path d=\"M18.56 5.44l.94 2.06.94-2.06 2.06-.94-2.06-.94-.94-2.06-.94 2.06-2.06.94zm-11 1L8.5 8.5l.94-2.06 2.06-.94-2.06-.94L8.5 2.5l-.94 2.06-2.06.94zm10 10l.94 2.06.94-2.06 2.06-.94-2.06-.94-.94-2.06-.94 2.06-2.06.94z\"/><path d=\"M17.41 7.96l-1.37-1.37c-.4-.4-.92-.59-1.43-.59-.52 0-1.04.2-1.43.59L10.3 9.45l-7.72 7.72c-.78.78-.78 2.05 0 2.83L4 21.41c.39.39.9.59 1.41.59.51 0 1.02-.2 1.41-.59l7.78-7.78 2.81-2.81c.8-.78.8-2.07 0-2.86zM5.41 20L4 18.59l7.72-7.72 1.47 1.35L5.41 20z\"/>\n",
              "  </svg>\n",
              "      </button>\n",
              "      \n",
              "  <style>\n",
              "    .colab-df-container {\n",
              "      display:flex;\n",
              "      flex-wrap:wrap;\n",
              "      gap: 12px;\n",
              "    }\n",
              "\n",
              "    .colab-df-convert {\n",
              "      background-color: #E8F0FE;\n",
              "      border: none;\n",
              "      border-radius: 50%;\n",
              "      cursor: pointer;\n",
              "      display: none;\n",
              "      fill: #1967D2;\n",
              "      height: 32px;\n",
              "      padding: 0 0 0 0;\n",
              "      width: 32px;\n",
              "    }\n",
              "\n",
              "    .colab-df-convert:hover {\n",
              "      background-color: #E2EBFA;\n",
              "      box-shadow: 0px 1px 2px rgba(60, 64, 67, 0.3), 0px 1px 3px 1px rgba(60, 64, 67, 0.15);\n",
              "      fill: #174EA6;\n",
              "    }\n",
              "\n",
              "    [theme=dark] .colab-df-convert {\n",
              "      background-color: #3B4455;\n",
              "      fill: #D2E3FC;\n",
              "    }\n",
              "\n",
              "    [theme=dark] .colab-df-convert:hover {\n",
              "      background-color: #434B5C;\n",
              "      box-shadow: 0px 1px 3px 1px rgba(0, 0, 0, 0.15);\n",
              "      filter: drop-shadow(0px 1px 2px rgba(0, 0, 0, 0.3));\n",
              "      fill: #FFFFFF;\n",
              "    }\n",
              "  </style>\n",
              "\n",
              "      <script>\n",
              "        const buttonEl =\n",
              "          document.querySelector('#df-61786197-bf0a-4ab3-9e1f-f55ba44d033c button.colab-df-convert');\n",
              "        buttonEl.style.display =\n",
              "          google.colab.kernel.accessAllowed ? 'block' : 'none';\n",
              "\n",
              "        async function convertToInteractive(key) {\n",
              "          const element = document.querySelector('#df-61786197-bf0a-4ab3-9e1f-f55ba44d033c');\n",
              "          const dataTable =\n",
              "            await google.colab.kernel.invokeFunction('convertToInteractive',\n",
              "                                                     [key], {});\n",
              "          if (!dataTable) return;\n",
              "\n",
              "          const docLinkHtml = 'Like what you see? Visit the ' +\n",
              "            '<a target=\"_blank\" href=https://colab.research.google.com/notebooks/data_table.ipynb>data table notebook</a>'\n",
              "            + ' to learn more about interactive tables.';\n",
              "          element.innerHTML = '';\n",
              "          dataTable['output_type'] = 'display_data';\n",
              "          await google.colab.output.renderOutput(dataTable, element);\n",
              "          const docLink = document.createElement('div');\n",
              "          docLink.innerHTML = docLinkHtml;\n",
              "          element.appendChild(docLink);\n",
              "        }\n",
              "      </script>\n",
              "    </div>\n",
              "  </div>\n",
              "  "
            ]
          },
          "metadata": {},
          "execution_count": 22
        }
      ]
    },
    {
      "cell_type": "code",
      "source": [
        "# Scatter plot between all the metric variables\n",
        "\n",
        "pd.plotting.scatter_matrix(num_data[num_cols[0:5]])"
      ],
      "metadata": {
        "colab": {
          "base_uri": "https://localhost:8080/",
          "height": 745
        },
        "id": "Gzkgqvm_9nfj",
        "outputId": "8e5c1434-ca9f-4add-cedf-c20b724e0da7"
      },
      "execution_count": null,
      "outputs": [
        {
          "output_type": "execute_result",
          "data": {
            "text/plain": [
              "array([[<matplotlib.axes._subplots.AxesSubplot object at 0x7f6568431f90>,\n",
              "        <matplotlib.axes._subplots.AxesSubplot object at 0x7f65682cf610>,\n",
              "        <matplotlib.axes._subplots.AxesSubplot object at 0x7f6568302c10>,\n",
              "        <matplotlib.axes._subplots.AxesSubplot object at 0x7f65682c3250>,\n",
              "        <matplotlib.axes._subplots.AxesSubplot object at 0x7f65681f6850>],\n",
              "       [<matplotlib.axes._subplots.AxesSubplot object at 0x7f65680e8e50>,\n",
              "        <matplotlib.axes._subplots.AxesSubplot object at 0x7f656802a510>,\n",
              "        <matplotlib.axes._subplots.AxesSubplot object at 0x7f6567fa0a50>,\n",
              "        <matplotlib.axes._subplots.AxesSubplot object at 0x7f6567fa0a90>,\n",
              "        <matplotlib.axes._subplots.AxesSubplot object at 0x7f656429c1d0>],\n",
              "       [<matplotlib.axes._subplots.AxesSubplot object at 0x7f656421f350>,\n",
              "        <matplotlib.axes._subplots.AxesSubplot object at 0x7f65641d8910>,\n",
              "        <matplotlib.axes._subplots.AxesSubplot object at 0x7f656418cd90>,\n",
              "        <matplotlib.axes._subplots.AxesSubplot object at 0x7f6564150310>,\n",
              "        <matplotlib.axes._subplots.AxesSubplot object at 0x7f6564107850>],\n",
              "       [<matplotlib.axes._subplots.AxesSubplot object at 0x7f656413cd50>,\n",
              "        <matplotlib.axes._subplots.AxesSubplot object at 0x7f656407f390>,\n",
              "        <matplotlib.axes._subplots.AxesSubplot object at 0x7f65640b7990>,\n",
              "        <matplotlib.axes._subplots.AxesSubplot object at 0x7f656406df90>,\n",
              "        <matplotlib.axes._subplots.AxesSubplot object at 0x7f65640335d0>],\n",
              "       [<matplotlib.axes._subplots.AxesSubplot object at 0x7f6563fe7bd0>,\n",
              "        <matplotlib.axes._subplots.AxesSubplot object at 0x7f6563fa8210>,\n",
              "        <matplotlib.axes._subplots.AxesSubplot object at 0x7f6563f60810>,\n",
              "        <matplotlib.axes._subplots.AxesSubplot object at 0x7f6563f14e10>,\n",
              "        <matplotlib.axes._subplots.AxesSubplot object at 0x7f6563ed7450>]],\n",
              "      dtype=object)"
            ]
          },
          "metadata": {},
          "execution_count": 23
        },
        {
          "output_type": "display_data",
          "data": {
            "text/plain": [
              "<Figure size 432x288 with 25 Axes>"
            ],
            "image/png": "[encoded data removed]"
          },
          "metadata": {
            "needs_background": "light"
          }
        }
      ]
    },
    {
      "cell_type": "code",
      "source": [
        "\n",
        "# Scatter plot between all the page_top variables\n",
        "pd.plotting.scatter_matrix(num_data[num_cols[5:]])"
      ],
      "metadata": {
        "colab": {
          "base_uri": "https://localhost:8080/",
          "height": 1000
        },
        "id": "-Aq9sDOK9pjr",
        "outputId": "2eb8eaa2-9b16-4a2a-8f7a-89a4b6145030"
      },
      "execution_count": null,
      "outputs": [
        {
          "output_type": "execute_result",
          "data": {
            "text/plain": [
              "array([[<matplotlib.axes._subplots.AxesSubplot object at 0x7f6563c4ee10>,\n",
              "        <matplotlib.axes._subplots.AxesSubplot object at 0x7f65637c9710>,\n",
              "        <matplotlib.axes._subplots.AxesSubplot object at 0x7f6561f72c10>,\n",
              "        <matplotlib.axes._subplots.AxesSubplot object at 0x7f6561f35150>,\n",
              "        <matplotlib.axes._subplots.AxesSubplot object at 0x7f6561f6d650>,\n",
              "        <matplotlib.axes._subplots.AxesSubplot object at 0x7f6561f23b50>,\n",
              "        <matplotlib.axes._subplots.AxesSubplot object at 0x7f6561eceb90>],\n",
              "       [<matplotlib.axes._subplots.AxesSubplot object at 0x7f6561e9b550>,\n",
              "        <matplotlib.axes._subplots.AxesSubplot object at 0x7f6561e9b590>,\n",
              "        <matplotlib.axes._subplots.AxesSubplot object at 0x7f6561e52b90>,\n",
              "        <matplotlib.axes._subplots.AxesSubplot object at 0x7f6561dcd4d0>,\n",
              "        <matplotlib.axes._subplots.AxesSubplot object at 0x7f65682dda90>,\n",
              "        <matplotlib.axes._subplots.AxesSubplot object at 0x7f65642a7290>,\n",
              "        <matplotlib.axes._subplots.AxesSubplot object at 0x7f65640d1550>],\n",
              "       [<matplotlib.axes._subplots.AxesSubplot object at 0x7f6568359250>,\n",
              "        <matplotlib.axes._subplots.AxesSubplot object at 0x7f6568561950>,\n",
              "        <matplotlib.axes._subplots.AxesSubplot object at 0x7f6561c92b10>,\n",
              "        <matplotlib.axes._subplots.AxesSubplot object at 0x7f6561c58150>,\n",
              "        <matplotlib.axes._subplots.AxesSubplot object at 0x7f6561c0e750>,\n",
              "        <matplotlib.axes._subplots.AxesSubplot object at 0x7f6561bc4d50>,\n",
              "        <matplotlib.axes._subplots.AxesSubplot object at 0x7f6561b8a390>],\n",
              "       [<matplotlib.axes._subplots.AxesSubplot object at 0x7f6561b41990>,\n",
              "        <matplotlib.axes._subplots.AxesSubplot object at 0x7f6561af6f90>,\n",
              "        <matplotlib.axes._subplots.AxesSubplot object at 0x7f6561ab95d0>,\n",
              "        <matplotlib.axes._subplots.AxesSubplot object at 0x7f6561a72bd0>,\n",
              "        <matplotlib.axes._subplots.AxesSubplot object at 0x7f6561a34210>,\n",
              "        <matplotlib.axes._subplots.AxesSubplot object at 0x7f6561a6a810>,\n",
              "        <matplotlib.axes._subplots.AxesSubplot object at 0x7f6561a22e10>],\n",
              "       [<matplotlib.axes._subplots.AxesSubplot object at 0x7f65619e7450>,\n",
              "        <matplotlib.axes._subplots.AxesSubplot object at 0x7f656199da50>,\n",
              "        <matplotlib.axes._subplots.AxesSubplot object at 0x7f656194ab90>,\n",
              "        <matplotlib.axes._subplots.AxesSubplot object at 0x7f6561919690>,\n",
              "        <matplotlib.axes._subplots.AxesSubplot object at 0x7f65618cec90>,\n",
              "        <matplotlib.axes._subplots.AxesSubplot object at 0x7f65618942d0>,\n",
              "        <matplotlib.axes._subplots.AxesSubplot object at 0x7f656184a8d0>],\n",
              "       [<matplotlib.axes._subplots.AxesSubplot object at 0x7f6561802ed0>,\n",
              "        <matplotlib.axes._subplots.AxesSubplot object at 0x7f65617c5510>,\n",
              "        <matplotlib.axes._subplots.AxesSubplot object at 0x7f656177bb10>,\n",
              "        <matplotlib.axes._subplots.AxesSubplot object at 0x7f6561740150>,\n",
              "        <matplotlib.axes._subplots.AxesSubplot object at 0x7f65616f6750>,\n",
              "        <matplotlib.axes._subplots.AxesSubplot object at 0x7f656172dd50>,\n",
              "        <matplotlib.axes._subplots.AxesSubplot object at 0x7f65616e8d10>],\n",
              "       [<matplotlib.axes._subplots.AxesSubplot object at 0x7f65616ac290>,\n",
              "        <matplotlib.axes._subplots.AxesSubplot object at 0x7f6561663790>,\n",
              "        <matplotlib.axes._subplots.AxesSubplot object at 0x7f6561619c90>,\n",
              "        <matplotlib.axes._subplots.AxesSubplot object at 0x7f65615dc1d0>,\n",
              "        <matplotlib.axes._subplots.AxesSubplot object at 0x7f65615936d0>,\n",
              "        <matplotlib.axes._subplots.AxesSubplot object at 0x7f656154abd0>,\n",
              "        <matplotlib.axes._subplots.AxesSubplot object at 0x7f656150f110>]],\n",
              "      dtype=object)"
            ]
          },
          "metadata": {},
          "execution_count": 24
        },
        {
          "output_type": "display_data",
          "data": {
            "text/plain": [
              "<Figure size 432x288 with 49 Axes>"
            ],
            "image/png": "[encoded data removed]"
          },
          "metadata": {
            "needs_background": "light"
          }
        }
      ]
    },
    {
      "cell_type": "code",
      "source": [
        "\n",
        "import matplotlib.pyplot as plt"
      ],
      "metadata": {
        "id": "tC4vSCwWAovs"
      },
      "execution_count": null,
      "outputs": []
    },
    {
      "cell_type": "code",
      "source": [
        "\n",
        "plt.scatter(np.log10(num_data['metric1']), num_data['metric3'])"
      ],
      "metadata": {
        "colab": {
          "base_uri": "https://localhost:8080/",
          "height": 317
        },
        "id": "NDBeGKyaAq9L",
        "outputId": "52275078-32bb-4d8e-eb2e-fc7e91cf1d54"
      },
      "execution_count": null,
      "outputs": [
        {
          "output_type": "stream",
          "name": "stderr",
          "text": [
            "/usr/local/lib/python3.7/dist-packages/pandas/core/arraylike.py:364: RuntimeWarning: divide by zero encountered in log10\n",
            "  result = getattr(ufunc, method)(*inputs, **kwargs)\n"
          ]
        },
        {
          "output_type": "execute_result",
          "data": {
            "text/plain": [
              "<matplotlib.collections.PathCollection at 0x7f65611d6150>"
            ]
          },
          "metadata": {},
          "execution_count": 26
        },
        {
          "output_type": "display_data",
          "data": {
            "text/plain": [
              "<Figure size 432x288 with 1 Axes>"
            ],
            "image/png": "[encoded data removed]"
          },
          "metadata": {
            "needs_background": "light"
          }
        }
      ]
    },
    {
      "cell_type": "code",
      "source": [
        "metric1_inv = np.divide(np.ones_like(num_data['metric1'])*1.0, num_data['metric1'])"
      ],
      "metadata": {
        "id": "nmZhwUI4As8U"
      },
      "execution_count": null,
      "outputs": []
    },
    {
      "cell_type": "code",
      "source": [
        "\n",
        "plt.scatter(metric1_inv, num_data['page1_top'])"
      ],
      "metadata": {
        "colab": {
          "base_uri": "https://localhost:8080/",
          "height": 282
        },
        "id": "fcN1GvIgAuMb",
        "outputId": "828e8e5f-232a-4663-c299-9eb12c95ec29"
      },
      "execution_count": null,
      "outputs": [
        {
          "output_type": "execute_result",
          "data": {
            "text/plain": [
              "<matplotlib.collections.PathCollection at 0x7f656119c410>"
            ]
          },
          "metadata": {},
          "execution_count": 28
        },
        {
          "output_type": "display_data",
          "data": {
            "text/plain": [
              "<Figure size 432x288 with 1 Axes>"
            ],
            "image/png": "[encoded data removed]"
          },
          "metadata": {
            "needs_background": "light"
          }
        }
      ]
    },
    {
      "cell_type": "code",
      "source": [
        "\n",
        "len(metric1_inv.unique())"
      ],
      "metadata": {
        "colab": {
          "base_uri": "https://localhost:8080/"
        },
        "id": "7hKPdoMyAvpE",
        "outputId": "b6a29b8d-29c8-48bc-81db-d4caeceb55cf"
      },
      "execution_count": null,
      "outputs": [
        {
          "output_type": "execute_result",
          "data": {
            "text/plain": [
              "183"
            ]
          },
          "metadata": {},
          "execution_count": 29
        }
      ]
    },
    {
      "cell_type": "code",
      "source": [
        "\n",
        "from sklearn.ensemble import RandomForestClassifier\n",
        "from sklearn.metrics import classification_report\n",
        "from sklearn.metrics import accuracy_score, confusion_matrix, roc_auc_score"
      ],
      "metadata": {
        "id": "FacVyxueAxKL"
      },
      "execution_count": null,
      "outputs": []
    },
    {
      "cell_type": "code",
      "source": [
        "def evaluate_model(target_true,target_predicted):\n",
        "    print (\"Confusion Matrix: \\n\", confusion_matrix(target_true,target_predicted))\n",
        "    print (\"\\nClassification Report: \\n\",classification_report(target_true,target_predicted))\n",
        "    print (\"\\nThe Accuracy score is {:.2%}\".format(accuracy_score(target_true,target_predicted)))\n",
        "    print (\"\\nAUC_ROC Score is {:.2%}\".format(roc_auc_score(target_true,target_predicted)))"
      ],
      "metadata": {
        "id": "5X-nC_QdAyuz"
      },
      "execution_count": null,
      "outputs": []
    },
    {
      "cell_type": "code",
      "source": [],
      "metadata": {
        "id": "Ig-NCcVvGjvV"
      },
      "execution_count": null,
      "outputs": []
    },
    {
      "cell_type": "code",
      "source": [
        "\n",
        "train['metric1_inv'] = np.divide(np.ones_like(train['metric1'])*1.0, train['metric1'])"
      ],
      "metadata": {
        "id": "anXNK4ghA1Gr"
      },
      "execution_count": null,
      "outputs": []
    },
    {
      "cell_type": "code",
      "source": [
        "# Splitting the training data to train and validation sets\n",
        "X = train[train.columns.difference(['target'])]\n",
        "Y = train['target']\n",
        "\n",
        "from sklearn.model_selection import train_test_split\n",
        "\n",
        "X_train, X_val, Y_train, Y_val = train_test_split(X, Y, test_size=0.30, random_state=42)"
      ],
      "metadata": {
        "id": "KdjXINC8GmdU"
      },
      "execution_count": null,
      "outputs": []
    },
    {
      "cell_type": "code",
      "source": [
        "\n",
        "print (X_train.columns)"
      ],
      "metadata": {
        "colab": {
          "base_uri": "https://localhost:8080/"
        },
        "id": "7eSV3GOHBFUb",
        "outputId": "7da95ea5-1beb-4fdc-d8a1-03373c5c5bb3"
      },
      "execution_count": null,
      "outputs": [
        {
          "output_type": "stream",
          "name": "stdout",
          "text": [
            "Index(['binary_var1', 'binary_var2', 'country', 'dayHourMinute', 'device',\n",
            "       'metric1', 'metric1_inv', 'metric2', 'metric3', 'metric4', 'metric5',\n",
            "       'metric6', 'page1_top', 'page2_top', 'page3_top', 'page4_top',\n",
            "       'page5_top', 'page6_top', 'region', 'sourceMedium', 'unique_id',\n",
            "       'visited_page1', 'visited_page2', 'visited_page3', 'visited_page4',\n",
            "       'visited_page5', 'visited_page6'],\n",
            "      dtype='object')\n"
          ]
        }
      ]
    },
    {
      "cell_type": "code",
      "source": [
        "\n",
        "use_cols = ['binary_var1', 'binary_var2', 'dayHourMinute', \n",
        "       #'metric2', 'metric3', 'metric4', \n",
        "        'metric5', 'metric6',\n",
        "       'page2_top', 'page3_top', 'page4_top', 'page5_top', # 'page1_top', 'page6_top',\n",
        "        #'region', #'sourceMedium', 'device', 'country',\n",
        "       'visited_page2', \n",
        "        'metric1', \n",
        "        'visited_page1', 'visited_page3', 'visited_page4', 'visited_page5', 'visited_page6',\n",
        "           ]"
      ],
      "metadata": {
        "id": "bDgSig6kBHq0"
      },
      "execution_count": null,
      "outputs": []
    },
    {
      "cell_type": "code",
      "source": [
        "\n",
        "# Random Forests\n",
        "params = {'max_depth':14,'min_samples_split':3,\n",
        "          'n_jobs':1, \n",
        "          'n_estimators': 700,\n",
        "          'class_weight':'balanced_subsample'}\n",
        "forest = RandomForestClassifier(**params)\n",
        "classifier = forest.fit(X_train[use_cols], Y_train)\n",
        "\n",
        "# Train\n",
        "predicted = classifier.predict(X_train[use_cols])\n",
        "evaluate_model(Y_train,predicted)"
      ],
      "metadata": {
        "colab": {
          "base_uri": "https://localhost:8080/"
        },
        "id": "Sjeb6usFBJPj",
        "outputId": "1fd71b74-09c8-4005-c9ad-99302d3c9a7a"
      },
      "execution_count": null,
      "outputs": [
        {
          "output_type": "stream",
          "name": "stdout",
          "text": [
            "Confusion Matrix: \n",
            " [[180398  40734]\n",
            " [  3747  18609]]\n",
            "\n",
            "Classification Report: \n",
            "               precision    recall  f1-score   support\n",
            "\n",
            "           0       0.98      0.82      0.89    221132\n",
            "           1       0.31      0.83      0.46     22356\n",
            "\n",
            "    accuracy                           0.82    243488\n",
            "   macro avg       0.65      0.82      0.67    243488\n",
            "weighted avg       0.92      0.82      0.85    243488\n",
            "\n",
            "\n",
            "The Accuracy score is 81.73%\n",
            "\n",
            "AUC_ROC Score is 82.41%\n"
          ]
        }
      ]
    },
    {
      "cell_type": "code",
      "source": [
        "# Predictions on Val set\n",
        "predicted = classifier.predict(X_val[use_cols])\n",
        "evaluate_model(Y_val,predicted)"
      ],
      "metadata": {
        "colab": {
          "base_uri": "https://localhost:8080/"
        },
        "id": "IdzTGJLABMkr",
        "outputId": "39a67798-66f7-44d5-ef8b-0fd360d9c25a"
      },
      "execution_count": null,
      "outputs": [
        {
          "output_type": "stream",
          "name": "stdout",
          "text": [
            "Confusion Matrix: \n",
            " [[76999 17905]\n",
            " [ 1961  7488]]\n",
            "\n",
            "Classification Report: \n",
            "               precision    recall  f1-score   support\n",
            "\n",
            "           0       0.98      0.81      0.89     94904\n",
            "           1       0.29      0.79      0.43      9449\n",
            "\n",
            "    accuracy                           0.81    104353\n",
            "   macro avg       0.64      0.80      0.66    104353\n",
            "weighted avg       0.91      0.81      0.84    104353\n",
            "\n",
            "\n",
            "The Accuracy score is 80.96%\n",
            "\n",
            "AUC_ROC Score is 80.19%\n"
          ]
        }
      ]
    }
  ]
}