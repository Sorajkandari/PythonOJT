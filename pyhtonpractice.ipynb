{
  "nbformat": 4,
  "nbformat_minor": 0,
  "metadata": {
    "colab": {
      "provenance": [],
      "collapsed_sections": []
    },
    "kernelspec": {
      "name": "python3",
      "display_name": "Python 3"
    },
    "language_info": {
      "name": "python"
    }
  },
  "cells": [
    {
      "cell_type": "markdown",
      "source": [
        "## **# CASE STUDY 1**"
      ],
      "metadata": {
        "id": "TtTjBdxh9ooC"
      }
    },
    {
      "cell_type": "code",
      "source": [
        "\n",
        "'''\n",
        "1. Write a program which will find all such numbers which are divisible by 7 but are not a\n",
        "multiple of 5, between 2000 and 3200 (both included). The numbers obtained should be\n",
        "printed in a comma-separated sequence on a single line.\n",
        "'''\n",
        "ans=[]\n",
        "for x in range(2000, 3201):\n",
        "    if (x%7==0) and (x%5!=0):\n",
        "        ans.append(str(x))\n",
        "\n",
        "print(ans)"
      ],
      "metadata": {
        "id": "WN4lir9R3PFl",
        "colab": {
          "base_uri": "https://localhost:8080/"
        },
        "outputId": "37b0e079-b9a5-441c-da48-69829ec6b6e2"
      },
      "execution_count": null,
      "outputs": [
        {
          "output_type": "stream",
          "name": "stdout",
          "text": [
            "['2002', '2009', '2016', '2023', '2037', '2044', '2051', '2058', '2072', '2079', '2086', '2093', '2107', '2114', '2121', '2128', '2142', '2149', '2156', '2163', '2177', '2184', '2191', '2198', '2212', '2219', '2226', '2233', '2247', '2254', '2261', '2268', '2282', '2289', '2296', '2303', '2317', '2324', '2331', '2338', '2352', '2359', '2366', '2373', '2387', '2394', '2401', '2408', '2422', '2429', '2436', '2443', '2457', '2464', '2471', '2478', '2492', '2499', '2506', '2513', '2527', '2534', '2541', '2548', '2562', '2569', '2576', '2583', '2597', '2604', '2611', '2618', '2632', '2639', '2646', '2653', '2667', '2674', '2681', '2688', '2702', '2709', '2716', '2723', '2737', '2744', '2751', '2758', '2772', '2779', '2786', '2793', '2807', '2814', '2821', '2828', '2842', '2849', '2856', '2863', '2877', '2884', '2891', '2898', '2912', '2919', '2926', '2933', '2947', '2954', '2961', '2968', '2982', '2989', '2996', '3003', '3017', '3024', '3031', '3038', '3052', '3059', '3066', '3073', '3087', '3094', '3101', '3108', '3122', '3129', '3136', '3143', '3157', '3164', '3171', '3178', '3192', '3199']\n"
          ]
        }
      ]
    },
    {
      "cell_type": "code",
      "source": [
        "\n",
        "'''\n",
        "Write a program which can compute the factorial of a given numbers. The results should\n",
        "be printed in a comma-separated sequence on a single line.\n",
        "Suppose the input is supplied to the program: 8\n",
        "Then, the output should be: 40320\n",
        "Hints: In case of input data being supplied to the question, it should be assumed to be a\n",
        "console input.\n",
        "'''\n",
        "\n",
        "def fun(n):\n",
        "  ans = 1\n",
        "  for x in range(1,n+1):\n",
        "    ans = ans * x\n",
        "  \n",
        "  return ans\n",
        "\n",
        "# sample\n",
        "print(\"Enter any number of your choice\")\n",
        "number = int(input())\n",
        "print(fun(number))"
      ],
      "metadata": {
        "colab": {
          "base_uri": "https://localhost:8080/"
        },
        "id": "aBY8xVNp9ldL",
        "outputId": "8a460f98-c897-4fde-ec71-dec09fb405b7"
      },
      "execution_count": null,
      "outputs": [
        {
          "output_type": "stream",
          "name": "stdout",
          "text": [
            "Enter any number of your choice\n",
            "5\n",
            "120\n"
          ]
        }
      ]
    },
    {
      "cell_type": "code",
      "source": [
        "'''\n",
        "DICTIONARY\n",
        "3. With a given integral number n, write a program to generate a dictionary that contains (i,\n",
        "i*i) such that is an integral number between 1 and n (both included) and then the program\n",
        "should print the dictionary.\n",
        "Suppose the input is supplied to the program: 8\n",
        "Then, the output should be: {1: 1, 2: 4, 3: 9, 4: 16, 5: 25, 6: 36, 7: 49, 8: 64}\n",
        "Hints: In case of input data being supplied\n",
        "'''\n",
        "\n",
        "def fun(n):\n",
        "  dict = {}\n",
        "  for x in range(1,n+1):\n",
        "    dict[x] = x * x\n",
        "  return dict\n",
        "\n",
        "num = int(input(\"Type any number\"))\n",
        "print(fun(num))"
      ],
      "metadata": {
        "colab": {
          "base_uri": "https://localhost:8080/"
        },
        "id": "lbfV-Wei_ZML",
        "outputId": "460fb283-4f92-4dad-f5c0-1cfd2d02fc73"
      },
      "execution_count": null,
      "outputs": [
        {
          "output_type": "stream",
          "name": "stdout",
          "text": [
            "Type any number5\n",
            "{1: 1, 2: 4, 3: 9, 4: 16, 5: 25}\n"
          ]
        }
      ]
    },
    {
      "cell_type": "code",
      "source": [
        "# 4. Write a program which accepts a sequence of comma-separated numbers from console\n",
        "# and generate a list and a tuple which contains every number.\n",
        "# Suppose the input is supplied to the program: 34, 67, 55, 33, 12, 98\n",
        "# Then, the output should be:\n",
        "# ['34', '67', '55', '33', '12', '98']\n",
        "# ('34', '67', '55', '33', '12', '98')\n",
        "# Hints: In case of input data being supplied to the question, it should be assumed to be a\n",
        "# console input. tuple() method can convert list to tuple\n",
        "\n",
        "numbers = input(\"Type the numbers\")\n",
        "\n",
        "array = numbers.split(\",\")\n",
        "tup = tuple(array)\n",
        "print(array,\"\\n\",tup)"
      ],
      "metadata": {
        "id": "m3Fneip2BAO8",
        "colab": {
          "base_uri": "https://localhost:8080/"
        },
        "outputId": "63286ee6-2e0b-493c-b08d-050335583183"
      },
      "execution_count": null,
      "outputs": [
        {
          "output_type": "stream",
          "name": "stdout",
          "text": [
            "Type the numbers1,2,3,4,5,6,7,8,9,10\n",
            "['1', '2', '3', '4', '5', '6', '7', '8', '9', '10'] \n",
            " ('1', '2', '3', '4', '5', '6', '7', '8', '9', '10')\n"
          ]
        }
      ]
    },
    {
      "cell_type": "code",
      "source": [
        "# 5. Define a class which has at least two methods:\n",
        "# getString: to get a string from console input\n",
        "# printString: to print the string in upper case.\n",
        "\n",
        "# Also please include simple test function to test the class methods.\n",
        "# Hints: Use init method to construct some parameters\n",
        "\n",
        "class class1():\n",
        "\n",
        "  def __init__(self):\n",
        "    self.string1 = \"\"\n",
        "\n",
        "  def getString(self):\n",
        "    self.string1 = input()\n",
        "\n",
        "  def printString(self):\n",
        "    print(self.string1.upper())\n",
        "\n",
        "\n",
        "cls = class1()\n",
        "cls.getString()\n",
        "cls.printString()\n",
        "\n",
        "\n"
      ],
      "metadata": {
        "colab": {
          "base_uri": "https://localhost:8080/"
        },
        "id": "q91ZED7NjzfM",
        "outputId": "c7d6dac4-04d9-4ebf-ff46-ef8af83604ab"
      },
      "execution_count": null,
      "outputs": [
        {
          "output_type": "stream",
          "name": "stdout",
          "text": [
            "hi everyone\n",
            "HI EVERYONE\n"
          ]
        }
      ]
    },
    {
      "cell_type": "code",
      "source": [
        "# 6. Write a program that calculates and prints the value according to the givenformula:\n",
        "# Q = Square root of [(2 * C * D)/H]\n",
        "# Following are the fixed values of C and H: C is 50. H is 30.\n",
        "# D is the variable whose values should be input to your program in a comma-separated\n",
        "# sequence.\n",
        "# Let us assume the following comma separated input sequence is given to the program:\n",
        "# 100,150,180\n",
        "# The output of the program should be: 18, 22, 24\n",
        "# Hints: If the output received is in decimal form, it should be rounded off to its nearest value\n",
        "# (for example, if the output received is 26.0, it should be printed as 26)\n",
        "# In case of input data being supplied to the question, it should be assumed to be a console\n",
        "# input.\n",
        "\n",
        "\n",
        "import math\n",
        "\n",
        "numbers = input()\n",
        "numbers = numbers.split(',')\n",
        "\n",
        "result_list = []\n",
        "for D in numbers:\n",
        "    Q = round(math.sqrt(2 * 50 * int(D) / 30))\n",
        "    result_list.append(Q)\n",
        "\n",
        "print(result_list)"
      ],
      "metadata": {
        "colab": {
          "base_uri": "https://localhost:8080/"
        },
        "id": "sy3YgBTEtA3R",
        "outputId": "70a98321-9b02-4af6-e08f-3a43962343f4"
      },
      "execution_count": null,
      "outputs": [
        {
          "output_type": "stream",
          "name": "stdout",
          "text": [
            "100,150,180\n",
            "[18, 22, 24]\n"
          ]
        }
      ]
    },
    {
      "cell_type": "code",
      "source": [
        "# 7. Write a program which takes 2 digits, X,Y as input and generates a 2-dimensional array.\n",
        "# The element value in the i-th row and j-th column of the array should be i*j.\n",
        "# Note: i=0,1.., X-1; j=0,1,¡•Y-1.\n",
        "# Suppose the following inputs are given to the program: 3, 5\n",
        "# Then, the output of the program should be: [[0, 0, 0, 0, 0], [0, 1, 2, 3, 4], [0, 2, 4, 6, 8]]\n",
        "# Hints: In case of input data being supplied to the question, it should be assumed to be a\n",
        "# console input in a comma-separated form.\n",
        "\n",
        "x = int(input())\n",
        "y = int(input())\n",
        "ans = [[0 for col in range(y) ] for row in range(x)]\n",
        "for i in range(x):\n",
        "  for j in range(y):\n",
        "    ans[i][j] = i * j\n",
        "\n",
        "print(ans)"
      ],
      "metadata": {
        "colab": {
          "base_uri": "https://localhost:8080/"
        },
        "id": "G-MdVZnv00qX",
        "outputId": "36787a3f-780b-492c-c638-6dc0e2ba0b02"
      },
      "execution_count": null,
      "outputs": [
        {
          "output_type": "stream",
          "name": "stdout",
          "text": [
            "5\n",
            "6\n",
            "[[0, 0, 0, 0, 0, 0], [0, 1, 2, 3, 4, 5], [0, 2, 4, 6, 8, 10], [0, 3, 6, 9, 12, 15], [0, 4, 8, 12, 16, 20]]\n"
          ]
        }
      ]
    },
    {
      "cell_type": "code",
      "source": [
        "# Write a program that accepts a comma separated sequence of words as input and prints\n",
        "# the words in a comma-separated sequence after sorting them alphabetically.\n",
        "# Suppose the input is supplied to the program: without, hello, bag,world\n",
        "# Then, the output should be: bag, hello, without, world\n",
        "# Hints: In case of input data being supplied to the question, it should be assumed to be a\n",
        "# console input.\n",
        "\n",
        "string = input().split(',')\n",
        "string.sort()\n",
        "print (string)\n"
      ],
      "metadata": {
        "colab": {
          "base_uri": "https://localhost:8080/"
        },
        "id": "OD1N1yIXO1vR",
        "outputId": "2fd3d073-23b4-4f95-c4f5-14616a9d42b1"
      },
      "execution_count": null,
      "outputs": [
        {
          "output_type": "stream",
          "name": "stdout",
          "text": [
            "without,hello,bag,world\n",
            "['bag', 'hello', 'without', 'world']\n"
          ]
        }
      ]
    },
    {
      "cell_type": "code",
      "source": [
        "# Write a program that accepts sequence of lines as input and prints the lines after making\n",
        "# all characters in the sentence capitalized.\n",
        "# Suppose the input is supplied to the program: Hello world\n",
        "# Practice makes perfect\n",
        "# Then, the output should be: HELLO WORLD\n",
        "# PRACTICE MAKES PERFECT\n",
        "\n",
        "ans = []\n",
        "while(1):\n",
        "  raw = input()\n",
        "  if(raw):\n",
        "    ans.append(raw.upper())\n",
        "  else:\n",
        "    break\n",
        "\n",
        "for x in ans:\n",
        "    print(x)"
      ],
      "metadata": {
        "colab": {
          "base_uri": "https://localhost:8080/"
        },
        "id": "06WxREDUSN2f",
        "outputId": "b19e03e5-f368-4ab0-d8bc-60737bbf812e"
      },
      "execution_count": null,
      "outputs": [
        {
          "output_type": "stream",
          "name": "stdout",
          "text": [
            "how are you\n",
            "i am fine\n",
            "good to know\n",
            "\n",
            "HOW ARE YOU\n",
            "I AM FINE\n",
            "GOOD TO KNOW\n"
          ]
        }
      ]
    },
    {
      "cell_type": "code",
      "source": [
        "# 10. Write a program that accepts a sequence of whitespace separated words as inputand\n",
        "# prints the words after removing all duplicate words and sorting themalphanumerically.\n",
        "# Suppose the input is supplied to the program: hello world and practice makes perfect and\n",
        "# hello world again\n",
        "# Then, the output should be: again and hello makes perfect practice world\n",
        "# Hints: In case of input data being supplied to the question, it should be assumed to be a\n",
        "# console input. We use set container to remove duplicated data automatically and then use\n",
        "# sorted() to sort the data.\n",
        "\n",
        "senten = input(\"Type the sentense\")\n",
        "listt = senten.split(\" \")\n",
        "\n",
        "ans = []\n",
        "for i in listt:\n",
        "  if i not in ans:\n",
        "    ans.append(i)\n",
        "\n",
        "ans.sort()\n",
        "for i in ans:\n",
        "  print(i, end = \" \")"
      ],
      "metadata": {
        "id": "YaHUsNWmUrR_",
        "colab": {
          "base_uri": "https://localhost:8080/"
        },
        "outputId": "d3441ec9-a29f-4b54-f67c-a77789f4b097"
      },
      "execution_count": null,
      "outputs": [
        {
          "output_type": "stream",
          "name": "stdout",
          "text": [
            "Type the sentensehello world and practice makes perfect and hello world again\n",
            "again and hello makes perfect practice world "
          ]
        }
      ]
    },
    {
      "cell_type": "code",
      "source": [
        "# 11. Write a program which accepts a sequence of comma separated 4 digit binary numbers\n",
        "# as its input and then check whether they are divisible by 5 or not. The numbers that are\n",
        "# divisible by 5 are to be printed in a comma separated sequence.\n",
        "# Suppose the input is supplied to the program: 0100,0011,1010,1001\n",
        "# Then the output should be: 1010\n",
        "# Notes: Assume the data is input by console.\n",
        "# Hints: In case of input data being supplied to the question, it should be assumed to be a\n",
        "# console input.\n",
        "\n",
        "x = input().split(\",\")\n",
        "fin = []\n",
        "for i in x:\n",
        "  no = int(i,2)\n",
        "  if (no%5 == 0):\n",
        "    fin.append(i)\n",
        "\n",
        "print(fin)\n"
      ],
      "metadata": {
        "colab": {
          "base_uri": "https://localhost:8080/"
        },
        "id": "vwQ0CUPf1qjN",
        "outputId": "19cf6481-b696-4988-88aa-294417b14e13"
      },
      "execution_count": null,
      "outputs": [
        {
          "output_type": "stream",
          "name": "stdout",
          "text": [
            "0100,0011,1010,1001\n",
            "['1010']\n"
          ]
        }
      ]
    },
    {
      "cell_type": "code",
      "source": [
        "# 12. Write a program, which will find all such numbers between 1000 and 3000 (both\n",
        "# included) such that each digit of the number is an even number.\n",
        "# The numbers obtained should be printed in a comma-separated sequence on a single line.\n",
        "# Hints: In case of input data being supplied to the question, it should be assumed to be a\n",
        "# console input.\n",
        "for x in range (1000,3001):\n",
        "  if x%2 ==0:\n",
        "    print(x, end =\", \")\n",
        "    "
      ],
      "metadata": {
        "colab": {
          "base_uri": "https://localhost:8080/"
        },
        "id": "mBkXmAby1qZl",
        "outputId": "9dbb7325-1201-4a52-aee6-a9c2e8d96e91"
      },
      "execution_count": null,
      "outputs": [
        {
          "output_type": "stream",
          "name": "stdout",
          "text": [
            "1000, 1002, 1004, 1006, 1008, 1010, 1012, 1014, 1016, 1018, 1020, 1022, 1024, 1026, 1028, 1030, 1032, 1034, 1036, 1038, 1040, 1042, 1044, 1046, 1048, 1050, 1052, 1054, 1056, 1058, 1060, 1062, 1064, 1066, 1068, 1070, 1072, 1074, 1076, 1078, 1080, 1082, 1084, 1086, 1088, 1090, 1092, 1094, 1096, 1098, 1100, 1102, 1104, 1106, 1108, 1110, 1112, 1114, 1116, 1118, 1120, 1122, 1124, 1126, 1128, 1130, 1132, 1134, 1136, 1138, 1140, 1142, 1144, 1146, 1148, 1150, 1152, 1154, 1156, 1158, 1160, 1162, 1164, 1166, 1168, 1170, 1172, 1174, 1176, 1178, 1180, 1182, 1184, 1186, 1188, 1190, 1192, 1194, 1196, 1198, 1200, 1202, 1204, 1206, 1208, 1210, 1212, 1214, 1216, 1218, 1220, 1222, 1224, 1226, 1228, 1230, 1232, 1234, 1236, 1238, 1240, 1242, 1244, 1246, 1248, 1250, 1252, 1254, 1256, 1258, 1260, 1262, 1264, 1266, 1268, 1270, 1272, 1274, 1276, 1278, 1280, 1282, 1284, 1286, 1288, 1290, 1292, 1294, 1296, 1298, 1300, 1302, 1304, 1306, 1308, 1310, 1312, 1314, 1316, 1318, 1320, 1322, 1324, 1326, 1328, 1330, 1332, 1334, 1336, 1338, 1340, 1342, 1344, 1346, 1348, 1350, 1352, 1354, 1356, 1358, 1360, 1362, 1364, 1366, 1368, 1370, 1372, 1374, 1376, 1378, 1380, 1382, 1384, 1386, 1388, 1390, 1392, 1394, 1396, 1398, 1400, 1402, 1404, 1406, 1408, 1410, 1412, 1414, 1416, 1418, 1420, 1422, 1424, 1426, 1428, 1430, 1432, 1434, 1436, 1438, 1440, 1442, 1444, 1446, 1448, 1450, 1452, 1454, 1456, 1458, 1460, 1462, 1464, 1466, 1468, 1470, 1472, 1474, 1476, 1478, 1480, 1482, 1484, 1486, 1488, 1490, 1492, 1494, 1496, 1498, 1500, 1502, 1504, 1506, 1508, 1510, 1512, 1514, 1516, 1518, 1520, 1522, 1524, 1526, 1528, 1530, 1532, 1534, 1536, 1538, 1540, 1542, 1544, 1546, 1548, 1550, 1552, 1554, 1556, 1558, 1560, 1562, 1564, 1566, 1568, 1570, 1572, 1574, 1576, 1578, 1580, 1582, 1584, 1586, 1588, 1590, 1592, 1594, 1596, 1598, 1600, 1602, 1604, 1606, 1608, 1610, 1612, 1614, 1616, 1618, 1620, 1622, 1624, 1626, 1628, 1630, 1632, 1634, 1636, 1638, 1640, 1642, 1644, 1646, 1648, 1650, 1652, 1654, 1656, 1658, 1660, 1662, 1664, 1666, 1668, 1670, 1672, 1674, 1676, 1678, 1680, 1682, 1684, 1686, 1688, 1690, 1692, 1694, 1696, 1698, 1700, 1702, 1704, 1706, 1708, 1710, 1712, 1714, 1716, 1718, 1720, 1722, 1724, 1726, 1728, 1730, 1732, 1734, 1736, 1738, 1740, 1742, 1744, 1746, 1748, 1750, 1752, 1754, 1756, 1758, 1760, 1762, 1764, 1766, 1768, 1770, 1772, 1774, 1776, 1778, 1780, 1782, 1784, 1786, 1788, 1790, 1792, 1794, 1796, 1798, 1800, 1802, 1804, 1806, 1808, 1810, 1812, 1814, 1816, 1818, 1820, 1822, 1824, 1826, 1828, 1830, 1832, 1834, 1836, 1838, 1840, 1842, 1844, 1846, 1848, 1850, 1852, 1854, 1856, 1858, 1860, 1862, 1864, 1866, 1868, 1870, 1872, 1874, 1876, 1878, 1880, 1882, 1884, 1886, 1888, 1890, 1892, 1894, 1896, 1898, 1900, 1902, 1904, 1906, 1908, 1910, 1912, 1914, 1916, 1918, 1920, 1922, 1924, 1926, 1928, 1930, 1932, 1934, 1936, 1938, 1940, 1942, 1944, 1946, 1948, 1950, 1952, 1954, 1956, 1958, 1960, 1962, 1964, 1966, 1968, 1970, 1972, 1974, 1976, 1978, 1980, 1982, 1984, 1986, 1988, 1990, 1992, 1994, 1996, 1998, 2000, 2002, 2004, 2006, 2008, 2010, 2012, 2014, 2016, 2018, 2020, 2022, 2024, 2026, 2028, 2030, 2032, 2034, 2036, 2038, 2040, 2042, 2044, 2046, 2048, 2050, 2052, 2054, 2056, 2058, 2060, 2062, 2064, 2066, 2068, 2070, 2072, 2074, 2076, 2078, 2080, 2082, 2084, 2086, 2088, 2090, 2092, 2094, 2096, 2098, 2100, 2102, 2104, 2106, 2108, 2110, 2112, 2114, 2116, 2118, 2120, 2122, 2124, 2126, 2128, 2130, 2132, 2134, 2136, 2138, 2140, 2142, 2144, 2146, 2148, 2150, 2152, 2154, 2156, 2158, 2160, 2162, 2164, 2166, 2168, 2170, 2172, 2174, 2176, 2178, 2180, 2182, 2184, 2186, 2188, 2190, 2192, 2194, 2196, 2198, 2200, 2202, 2204, 2206, 2208, 2210, 2212, 2214, 2216, 2218, 2220, 2222, 2224, 2226, 2228, 2230, 2232, 2234, 2236, 2238, 2240, 2242, 2244, 2246, 2248, 2250, 2252, 2254, 2256, 2258, 2260, 2262, 2264, 2266, 2268, 2270, 2272, 2274, 2276, 2278, 2280, 2282, 2284, 2286, 2288, 2290, 2292, 2294, 2296, 2298, 2300, 2302, 2304, 2306, 2308, 2310, 2312, 2314, 2316, 2318, 2320, 2322, 2324, 2326, 2328, 2330, 2332, 2334, 2336, 2338, 2340, 2342, 2344, 2346, 2348, 2350, 2352, 2354, 2356, 2358, 2360, 2362, 2364, 2366, 2368, 2370, 2372, 2374, 2376, 2378, 2380, 2382, 2384, 2386, 2388, 2390, 2392, 2394, 2396, 2398, 2400, 2402, 2404, 2406, 2408, 2410, 2412, 2414, 2416, 2418, 2420, 2422, 2424, 2426, 2428, 2430, 2432, 2434, 2436, 2438, 2440, 2442, 2444, 2446, 2448, 2450, 2452, 2454, 2456, 2458, 2460, 2462, 2464, 2466, 2468, 2470, 2472, 2474, 2476, 2478, 2480, 2482, 2484, 2486, 2488, 2490, 2492, 2494, 2496, 2498, 2500, 2502, 2504, 2506, 2508, 2510, 2512, 2514, 2516, 2518, 2520, 2522, 2524, 2526, 2528, 2530, 2532, 2534, 2536, 2538, 2540, 2542, 2544, 2546, 2548, 2550, 2552, 2554, 2556, 2558, 2560, 2562, 2564, 2566, 2568, 2570, 2572, 2574, 2576, 2578, 2580, 2582, 2584, 2586, 2588, 2590, 2592, 2594, 2596, 2598, 2600, 2602, 2604, 2606, 2608, 2610, 2612, 2614, 2616, 2618, 2620, 2622, 2624, 2626, 2628, 2630, 2632, 2634, 2636, 2638, 2640, 2642, 2644, 2646, 2648, 2650, 2652, 2654, 2656, 2658, 2660, 2662, 2664, 2666, 2668, 2670, 2672, 2674, 2676, 2678, 2680, 2682, 2684, 2686, 2688, 2690, 2692, 2694, 2696, 2698, 2700, 2702, 2704, 2706, 2708, 2710, 2712, 2714, 2716, 2718, 2720, 2722, 2724, 2726, 2728, 2730, 2732, 2734, 2736, 2738, 2740, 2742, 2744, 2746, 2748, 2750, 2752, 2754, 2756, 2758, 2760, 2762, 2764, 2766, 2768, 2770, 2772, 2774, 2776, 2778, 2780, 2782, 2784, 2786, 2788, 2790, 2792, 2794, 2796, 2798, 2800, 2802, 2804, 2806, 2808, 2810, 2812, 2814, 2816, 2818, 2820, 2822, 2824, 2826, 2828, 2830, 2832, 2834, 2836, 2838, 2840, 2842, 2844, 2846, 2848, 2850, 2852, 2854, 2856, 2858, 2860, 2862, 2864, 2866, 2868, 2870, 2872, 2874, 2876, 2878, 2880, 2882, 2884, 2886, 2888, 2890, 2892, 2894, 2896, 2898, 2900, 2902, 2904, 2906, 2908, 2910, 2912, 2914, 2916, 2918, 2920, 2922, 2924, 2926, 2928, 2930, 2932, 2934, 2936, 2938, 2940, 2942, 2944, 2946, 2948, 2950, 2952, 2954, 2956, 2958, 2960, 2962, 2964, 2966, 2968, 2970, 2972, 2974, 2976, 2978, 2980, 2982, 2984, 2986, 2988, 2990, 2992, 2994, 2996, 2998, 3000, "
          ]
        }
      ]
    },
    {
      "cell_type": "code",
      "source": [
        "# 13. Write a program that accepts a sentence and calculate the number of letters anddigits.\n",
        "# Suppose the input is supplied to the program: hello world! 123\n",
        "# Then, the output should be: LETTERS 10\n",
        "\n",
        "# DIGITS 3\n",
        "# Hints: In case of input data being supplied to the question, it should be assumed to be a\n",
        "# console input.\n",
        "x = list(input())\n",
        "dig = 0\n",
        "alp = 0\n",
        "\n",
        "for i in x:\n",
        "  if i.isalpha():\n",
        "    alp+=1\n",
        "  if i.isdigit():\n",
        "    dig+=1\n",
        "\n",
        "print(\"LETTER \", alp)\n",
        "print(\"DIGIT \", dig)"
      ],
      "metadata": {
        "colab": {
          "base_uri": "https://localhost:8080/"
        },
        "id": "OF1gri-A50U_",
        "outputId": "5d9cb242-bdf6-45a0-b785-a6405cf809c6"
      },
      "execution_count": null,
      "outputs": [
        {
          "output_type": "stream",
          "name": "stdout",
          "text": [
            "hello world! 123\n",
            "LETTER  10\n",
            "DIGIT  3\n"
          ]
        }
      ]
    },
    {
      "cell_type": "code",
      "source": [
        "# 14. Write a program that accepts a sentence and calculate the number of upper caseletters\n",
        "# and lower case letters.\n",
        "# Suppose the input is supplied to the program: Hello world!\n",
        "# Then, the output should be: UPPER CASE 1\n",
        "# LOWER CASE 9\n",
        "# Hints: In case of input data being supplied to the question, it should be assumed to be a\n",
        "# console input.\n",
        "phrase = input(\"Type in: \")\n",
        "phrase = list(phrase)\n",
        "\n",
        "u, l = 0, 0\n",
        "for i in phrase:\n",
        "    if i.isupper():\n",
        "        u = u + 1\n",
        "    if i.islower():\n",
        "        l = l + 1\n",
        "    else:\n",
        "        pass\n",
        "\n",
        "print(\"UPPER:\", u)\n",
        "print(\"lower:\", l)"
      ],
      "metadata": {
        "colab": {
          "base_uri": "https://localhost:8080/"
        },
        "id": "xO4bzJFe6sNG",
        "outputId": "347c354c-31ad-4d0b-82eb-c40187f9ed01"
      },
      "execution_count": null,
      "outputs": [
        {
          "output_type": "stream",
          "name": "stdout",
          "text": [
            "Type in: Hello world!\n",
            "UPPER: 1\n",
            "lower: 9\n"
          ]
        }
      ]
    },
    {
      "cell_type": "code",
      "source": [
        "# 15. Write a program that computes the value of a+aa+aaa+aaaa with a given digit as the\n",
        "# value of a.\n",
        "# Suppose the input is supplied to the program: 9\n",
        "# Then, the output should be: 11106\n",
        "# Hints: In case of input data being supplied to the question, it should be assumed to be a\n",
        "# console input.\n",
        "\n",
        "a = input()\n",
        "n1 = int( \"%s\" % a )\n",
        "n2 = int( \"%s%s\" % (a,a) )\n",
        "n3 = int( \"%s%s%s\" % (a,a,a) )\n",
        "n4 = int( \"%s%s%s%s\" % (a,a,a,a) )\n",
        "print(n1+n2+n3+n4)"
      ],
      "metadata": {
        "colab": {
          "base_uri": "https://localhost:8080/"
        },
        "id": "Q1HMzBmC66a1",
        "outputId": "3e39474a-5f02-4952-bdf2-620e93a9d713"
      },
      "execution_count": null,
      "outputs": [
        {
          "output_type": "stream",
          "name": "stdout",
          "text": [
            "9\n",
            "11106\n"
          ]
        }
      ]
    },
    {
      "cell_type": "code",
      "source": [
        "# 16. Use a list comprehension to square each odd number in a list. The list is input by a\n",
        "# sequence of comma-separated numbers.\n",
        "# Suppose the input is supplied to the program: 1,2,3,4,5,6,7,8,9\n",
        "# Then, the output should be: 1, 3, 5, 7, 9\n",
        "# Hints: In case of input data being supplied to the question, it should be assumed to be a\n",
        "# console input.\n",
        "numbers = input(\"Type in: \")\n",
        "#numbers = numbers.split(',')\n",
        "\n",
        "odd_list = [i for i in numbers.split(',') if (int(i) % 2 != 0)]\n",
        "print((\" \").join(odd_list))"
      ],
      "metadata": {
        "colab": {
          "base_uri": "https://localhost:8080/"
        },
        "id": "3rWDwNBjJsGU",
        "outputId": "1c9d7687-d43b-4054-caa7-920a7a7e1085"
      },
      "execution_count": null,
      "outputs": [
        {
          "output_type": "stream",
          "name": "stdout",
          "text": [
            "Type in: 1,2,3,4,5,6,7,8,9\n",
            "1 3 5 7 9\n"
          ]
        }
      ]
    },
    {
      "cell_type": "code",
      "source": [
        "# 17. Write a program that computes the net amount of a bank account based atransaction\n",
        "# log from console input. The transaction log format is shown asfollowing:\n",
        "# D 100\n",
        "# W 200\n",
        "# --D means deposit while W means withdrawal.\n",
        "# Suppose the input is supplied to the program:\n",
        "# D 300\n",
        "# D 300\n",
        "# W 200\n",
        "# D 100\n",
        "# Then, the output should be: 500\n",
        "# Hints: In case of input data being supplied to the question, it should be assumed to be a\n",
        "# console input.\n",
        "\n",
        "total = 0\n",
        "while True:\n",
        "    d_w_trans = input()\n",
        "    if d_w_trans == \"\":\n",
        "        break\n",
        "    else:\n",
        "        d_w_trans = d_w_trans.split(\" \")\n",
        "        if d_w_trans[0] == \"D\":\n",
        "            total = total + int(d_w_trans[1])\n",
        "        elif d_w_trans[0] == \"W\":\n",
        "            total = total - int(d_w_trans[1])\n",
        "\n",
        "print(total)"
      ],
      "metadata": {
        "colab": {
          "base_uri": "https://localhost:8080/"
        },
        "id": "p4s4yhSCKTdc",
        "outputId": "3f7fe934-88f8-43c0-ac11-4d80601eb002"
      },
      "execution_count": null,
      "outputs": [
        {
          "output_type": "stream",
          "name": "stdout",
          "text": [
            "D 100\n",
            "D 200\n",
            "W 500\n",
            "D 300\n",
            "\n",
            "100\n"
          ]
        }
      ]
    },
    {
      "cell_type": "code",
      "source": [
        "# 18. A website requires the users to input username and password toregister. Write a\n",
        "# program to check the validity of password input by users.\n",
        "# Following are the criteria for checking the password:\n",
        "# 1. At least 1 letter between [a-z]\n",
        "# 2. At least 1 number between [0-9]\n",
        "# 1. At least 1 letter between [A-Z]\n",
        "# 3. At least 1 character from [$#@]\n",
        "# 4. Minimum length of transaction password: 6\n",
        "# 5. Maximum length of transaction password: 12\n",
        "# Your program should accept a sequence of comma separated passwords and will check\n",
        "# them according to the above criteria. Passwords that match the criteria are to be printed,\n",
        "# each separated by a comma.\n",
        "# If the following passwords are given as input to the program: ABd1234@1,a\n",
        "# F1#,2w3E*,2We3345\n",
        "# Then, the output of the program should be: ABd1234@1\n",
        "# Hints: In case of input data being supplied to the question, it should be assumed to be a\n",
        "# console input.\n",
        "\n",
        "import re\n",
        "passwords = input(\"Type in: \")\n",
        "passwords = passwords.split(\",\")\n",
        "\n",
        "accepted_pass = []\n",
        "for i in passwords:\n",
        "    \n",
        "    if len(i) < 6 or len(i) > 12:\n",
        "        continue\n",
        "\n",
        "    elif not re.search(\"([a-z])+\", i):\n",
        "        continue\n",
        "\n",
        "    elif not re.search(\"([A-Z])+\", i):\n",
        "        continue\n",
        "\n",
        "    elif not re.search(\"([0-9])+\", i):\n",
        "        continue\n",
        "\n",
        "    elif not re.search(\"([!@$%^&])+\", i):\n",
        "        continue\n",
        "\n",
        "    else:\n",
        "        accepted_pass.append(i)\n",
        "\n",
        "print((\" \").join(accepted_pass))"
      ],
      "metadata": {
        "colab": {
          "base_uri": "https://localhost:8080/"
        },
        "id": "9CqKwnPgL44c",
        "outputId": "3b71240d-e695-4309-f9e5-09feb116ea23"
      },
      "execution_count": null,
      "outputs": [
        {
          "output_type": "stream",
          "name": "stdout",
          "text": [
            "Type in: ABd1234@1 ,a F1# ,2w3E* ,2We3345\n",
            "ABd1234@1 \n"
          ]
        }
      ]
    },
    {
      "cell_type": "code",
      "source": [
        "# 19. You are required to write a program to sort the (name, age, height) tuples byascending\n",
        "# order where name is string, age and height are numbers. The tuples are input by console.\n",
        "# The sort criteria is:\n",
        "# 1: Sort based on name;\n",
        "# 2: Then sort based on age;\n",
        "# 3: Then sort by score.\n",
        "\n",
        "# The priority is that name > age > score.\n",
        "# If the following tuples are given as input to the program:\n",
        "# Tom,19,80\n",
        "# John,20,90\n",
        "# Jony,17,91\n",
        "# Jony,17,93\n",
        "# Json,21,85\n",
        "from operator import itemgetter\n",
        "\n",
        "people_info = []\n",
        "while True:\n",
        "    individual_info = input()\n",
        "\n",
        "    if individual_info == \"\":\n",
        "        break\n",
        "    else:\n",
        "        people_info.append(tuple((individual_info.split(\",\"))))\n",
        "\n",
        "people_info.sort(key =  itemgetter(0, 1, 2))       \n",
        "print(people_info)"
      ],
      "metadata": {
        "id": "jI0kV95xOBCN",
        "colab": {
          "base_uri": "https://localhost:8080/"
        },
        "outputId": "888754f3-b492-498f-c9e0-274c9a3577c9"
      },
      "execution_count": null,
      "outputs": [
        {
          "output_type": "stream",
          "name": "stdout",
          "text": [
            "Tom,19,80\n",
            "John,20,90\n",
            "Jony,17,91\n",
            "Jony,17,93\n",
            "Json,21,85\n",
            "\n",
            "[('John', '20', '90'), ('Jony', '17', '91'), ('Jony', '17', '93'), ('Json', '21', '85'), ('Tom', '19', '80')]\n"
          ]
        }
      ]
    },
    {
      "cell_type": "code",
      "source": [
        "# 20. Define a class with a generator which can iterate the numbers, which are divisible by 7,\n",
        "# between a given range 0 and n.\n",
        "# Hints: Consider use yield\n",
        "\n",
        "n = int(input())\n",
        "divBy7 = [i for i in range(0, n) if (i % 7 == 0)]\n",
        "print(divBy7)\n",
        "\n",
        "def divChecker(n):\n",
        "    for i in range(n):\n",
        "        if i % 7 == 0:\n",
        "            value = True\n",
        "        else:\n",
        "            value = False\n",
        "        print(i, value)\n",
        "\n",
        "divChecker(n)"
      ],
      "metadata": {
        "colab": {
          "base_uri": "https://localhost:8080/"
        },
        "id": "RPmmJrtnoZgK",
        "outputId": "c9a7a001-d6f5-4277-a21f-a584dc45c7e2"
      },
      "execution_count": null,
      "outputs": [
        {
          "output_type": "stream",
          "name": "stdout",
          "text": [
            "501\n",
            "[0, 7, 14, 21, 28, 35, 42, 49, 56, 63, 70, 77, 84, 91, 98, 105, 112, 119, 126, 133, 140, 147, 154, 161, 168, 175, 182, 189, 196, 203, 210, 217, 224, 231, 238, 245, 252, 259, 266, 273, 280, 287, 294, 301, 308, 315, 322, 329, 336, 343, 350, 357, 364, 371, 378, 385, 392, 399, 406, 413, 420, 427, 434, 441, 448, 455, 462, 469, 476, 483, 490, 497]\n",
            "0 True\n",
            "1 False\n",
            "2 False\n",
            "3 False\n",
            "4 False\n",
            "5 False\n",
            "6 False\n",
            "7 True\n",
            "8 False\n",
            "9 False\n",
            "10 False\n",
            "11 False\n",
            "12 False\n",
            "13 False\n",
            "14 True\n",
            "15 False\n",
            "16 False\n",
            "17 False\n",
            "18 False\n",
            "19 False\n",
            "20 False\n",
            "21 True\n",
            "22 False\n",
            "23 False\n",
            "24 False\n",
            "25 False\n",
            "26 False\n",
            "27 False\n",
            "28 True\n",
            "29 False\n",
            "30 False\n",
            "31 False\n",
            "32 False\n",
            "33 False\n",
            "34 False\n",
            "35 True\n",
            "36 False\n",
            "37 False\n",
            "38 False\n",
            "39 False\n",
            "40 False\n",
            "41 False\n",
            "42 True\n",
            "43 False\n",
            "44 False\n",
            "45 False\n",
            "46 False\n",
            "47 False\n",
            "48 False\n",
            "49 True\n",
            "50 False\n",
            "51 False\n",
            "52 False\n",
            "53 False\n",
            "54 False\n",
            "55 False\n",
            "56 True\n",
            "57 False\n",
            "58 False\n",
            "59 False\n",
            "60 False\n",
            "61 False\n",
            "62 False\n",
            "63 True\n",
            "64 False\n",
            "65 False\n",
            "66 False\n",
            "67 False\n",
            "68 False\n",
            "69 False\n",
            "70 True\n",
            "71 False\n",
            "72 False\n",
            "73 False\n",
            "74 False\n",
            "75 False\n",
            "76 False\n",
            "77 True\n",
            "78 False\n",
            "79 False\n",
            "80 False\n",
            "81 False\n",
            "82 False\n",
            "83 False\n",
            "84 True\n",
            "85 False\n",
            "86 False\n",
            "87 False\n",
            "88 False\n",
            "89 False\n",
            "90 False\n",
            "91 True\n",
            "92 False\n",
            "93 False\n",
            "94 False\n",
            "95 False\n",
            "96 False\n",
            "97 False\n",
            "98 True\n",
            "99 False\n",
            "100 False\n",
            "101 False\n",
            "102 False\n",
            "103 False\n",
            "104 False\n",
            "105 True\n",
            "106 False\n",
            "107 False\n",
            "108 False\n",
            "109 False\n",
            "110 False\n",
            "111 False\n",
            "112 True\n",
            "113 False\n",
            "114 False\n",
            "115 False\n",
            "116 False\n",
            "117 False\n",
            "118 False\n",
            "119 True\n",
            "120 False\n",
            "121 False\n",
            "122 False\n",
            "123 False\n",
            "124 False\n",
            "125 False\n",
            "126 True\n",
            "127 False\n",
            "128 False\n",
            "129 False\n",
            "130 False\n",
            "131 False\n",
            "132 False\n",
            "133 True\n",
            "134 False\n",
            "135 False\n",
            "136 False\n",
            "137 False\n",
            "138 False\n",
            "139 False\n",
            "140 True\n",
            "141 False\n",
            "142 False\n",
            "143 False\n",
            "144 False\n",
            "145 False\n",
            "146 False\n",
            "147 True\n",
            "148 False\n",
            "149 False\n",
            "150 False\n",
            "151 False\n",
            "152 False\n",
            "153 False\n",
            "154 True\n",
            "155 False\n",
            "156 False\n",
            "157 False\n",
            "158 False\n",
            "159 False\n",
            "160 False\n",
            "161 True\n",
            "162 False\n",
            "163 False\n",
            "164 False\n",
            "165 False\n",
            "166 False\n",
            "167 False\n",
            "168 True\n",
            "169 False\n",
            "170 False\n",
            "171 False\n",
            "172 False\n",
            "173 False\n",
            "174 False\n",
            "175 True\n",
            "176 False\n",
            "177 False\n",
            "178 False\n",
            "179 False\n",
            "180 False\n",
            "181 False\n",
            "182 True\n",
            "183 False\n",
            "184 False\n",
            "185 False\n",
            "186 False\n",
            "187 False\n",
            "188 False\n",
            "189 True\n",
            "190 False\n",
            "191 False\n",
            "192 False\n",
            "193 False\n",
            "194 False\n",
            "195 False\n",
            "196 True\n",
            "197 False\n",
            "198 False\n",
            "199 False\n",
            "200 False\n",
            "201 False\n",
            "202 False\n",
            "203 True\n",
            "204 False\n",
            "205 False\n",
            "206 False\n",
            "207 False\n",
            "208 False\n",
            "209 False\n",
            "210 True\n",
            "211 False\n",
            "212 False\n",
            "213 False\n",
            "214 False\n",
            "215 False\n",
            "216 False\n",
            "217 True\n",
            "218 False\n",
            "219 False\n",
            "220 False\n",
            "221 False\n",
            "222 False\n",
            "223 False\n",
            "224 True\n",
            "225 False\n",
            "226 False\n",
            "227 False\n",
            "228 False\n",
            "229 False\n",
            "230 False\n",
            "231 True\n",
            "232 False\n",
            "233 False\n",
            "234 False\n",
            "235 False\n",
            "236 False\n",
            "237 False\n",
            "238 True\n",
            "239 False\n",
            "240 False\n",
            "241 False\n",
            "242 False\n",
            "243 False\n",
            "244 False\n",
            "245 True\n",
            "246 False\n",
            "247 False\n",
            "248 False\n",
            "249 False\n",
            "250 False\n",
            "251 False\n",
            "252 True\n",
            "253 False\n",
            "254 False\n",
            "255 False\n",
            "256 False\n",
            "257 False\n",
            "258 False\n",
            "259 True\n",
            "260 False\n",
            "261 False\n",
            "262 False\n",
            "263 False\n",
            "264 False\n",
            "265 False\n",
            "266 True\n",
            "267 False\n",
            "268 False\n",
            "269 False\n",
            "270 False\n",
            "271 False\n",
            "272 False\n",
            "273 True\n",
            "274 False\n",
            "275 False\n",
            "276 False\n",
            "277 False\n",
            "278 False\n",
            "279 False\n",
            "280 True\n",
            "281 False\n",
            "282 False\n",
            "283 False\n",
            "284 False\n",
            "285 False\n",
            "286 False\n",
            "287 True\n",
            "288 False\n",
            "289 False\n",
            "290 False\n",
            "291 False\n",
            "292 False\n",
            "293 False\n",
            "294 True\n",
            "295 False\n",
            "296 False\n",
            "297 False\n",
            "298 False\n",
            "299 False\n",
            "300 False\n",
            "301 True\n",
            "302 False\n",
            "303 False\n",
            "304 False\n",
            "305 False\n",
            "306 False\n",
            "307 False\n",
            "308 True\n",
            "309 False\n",
            "310 False\n",
            "311 False\n",
            "312 False\n",
            "313 False\n",
            "314 False\n",
            "315 True\n",
            "316 False\n",
            "317 False\n",
            "318 False\n",
            "319 False\n",
            "320 False\n",
            "321 False\n",
            "322 True\n",
            "323 False\n",
            "324 False\n",
            "325 False\n",
            "326 False\n",
            "327 False\n",
            "328 False\n",
            "329 True\n",
            "330 False\n",
            "331 False\n",
            "332 False\n",
            "333 False\n",
            "334 False\n",
            "335 False\n",
            "336 True\n",
            "337 False\n",
            "338 False\n",
            "339 False\n",
            "340 False\n",
            "341 False\n",
            "342 False\n",
            "343 True\n",
            "344 False\n",
            "345 False\n",
            "346 False\n",
            "347 False\n",
            "348 False\n",
            "349 False\n",
            "350 True\n",
            "351 False\n",
            "352 False\n",
            "353 False\n",
            "354 False\n",
            "355 False\n",
            "356 False\n",
            "357 True\n",
            "358 False\n",
            "359 False\n",
            "360 False\n",
            "361 False\n",
            "362 False\n",
            "363 False\n",
            "364 True\n",
            "365 False\n",
            "366 False\n",
            "367 False\n",
            "368 False\n",
            "369 False\n",
            "370 False\n",
            "371 True\n",
            "372 False\n",
            "373 False\n",
            "374 False\n",
            "375 False\n",
            "376 False\n",
            "377 False\n",
            "378 True\n",
            "379 False\n",
            "380 False\n",
            "381 False\n",
            "382 False\n",
            "383 False\n",
            "384 False\n",
            "385 True\n",
            "386 False\n",
            "387 False\n",
            "388 False\n",
            "389 False\n",
            "390 False\n",
            "391 False\n",
            "392 True\n",
            "393 False\n",
            "394 False\n",
            "395 False\n",
            "396 False\n",
            "397 False\n",
            "398 False\n",
            "399 True\n",
            "400 False\n",
            "401 False\n",
            "402 False\n",
            "403 False\n",
            "404 False\n",
            "405 False\n",
            "406 True\n",
            "407 False\n",
            "408 False\n",
            "409 False\n",
            "410 False\n",
            "411 False\n",
            "412 False\n",
            "413 True\n",
            "414 False\n",
            "415 False\n",
            "416 False\n",
            "417 False\n",
            "418 False\n",
            "419 False\n",
            "420 True\n",
            "421 False\n",
            "422 False\n",
            "423 False\n",
            "424 False\n",
            "425 False\n",
            "426 False\n",
            "427 True\n",
            "428 False\n",
            "429 False\n",
            "430 False\n",
            "431 False\n",
            "432 False\n",
            "433 False\n",
            "434 True\n",
            "435 False\n",
            "436 False\n",
            "437 False\n",
            "438 False\n",
            "439 False\n",
            "440 False\n",
            "441 True\n",
            "442 False\n",
            "443 False\n",
            "444 False\n",
            "445 False\n",
            "446 False\n",
            "447 False\n",
            "448 True\n",
            "449 False\n",
            "450 False\n",
            "451 False\n",
            "452 False\n",
            "453 False\n",
            "454 False\n",
            "455 True\n",
            "456 False\n",
            "457 False\n",
            "458 False\n",
            "459 False\n",
            "460 False\n",
            "461 False\n",
            "462 True\n",
            "463 False\n",
            "464 False\n",
            "465 False\n",
            "466 False\n",
            "467 False\n",
            "468 False\n",
            "469 True\n",
            "470 False\n",
            "471 False\n",
            "472 False\n",
            "473 False\n",
            "474 False\n",
            "475 False\n",
            "476 True\n",
            "477 False\n",
            "478 False\n",
            "479 False\n",
            "480 False\n",
            "481 False\n",
            "482 False\n",
            "483 True\n",
            "484 False\n",
            "485 False\n",
            "486 False\n",
            "487 False\n",
            "488 False\n",
            "489 False\n",
            "490 True\n",
            "491 False\n",
            "492 False\n",
            "493 False\n",
            "494 False\n",
            "495 False\n",
            "496 False\n",
            "497 True\n",
            "498 False\n",
            "499 False\n",
            "500 False\n"
          ]
        }
      ]
    },
    {
      "cell_type": "code",
      "source": [
        "# 21. A robot moves in a plane starting from the original point (0,0). The robot can move\n",
        "# toward UP, DOWN, LEFT and RIGHT with a given steps. The trace of robot movement is\n",
        "# shown as the following:\n",
        "# UP 5\n",
        "# DOWN 3\n",
        "# LEFT 3\n",
        "# RIGHT 2\n",
        "# ¡•\n",
        "# The numbers after the direction are steps. Please write a program to compute the distance\n",
        "# from current position after a sequence of movement and original point. If the distance is a\n",
        "# float, then just print the nearest integer.\n",
        "# If the following tuples are given as input to the program:\n",
        "# UP 5\n",
        "# DOWN 3\n",
        "# LEFT 3\n",
        "# RIGHT 2\n",
        "# Then, the output of the program should be: 2\n",
        "# Hints: In case of input data being supplied to the question, it should be assumed to be a\n",
        "# console input.\n",
        "import math\n",
        "\n",
        "x, y = 0, 0\n",
        "\n",
        "while True:\n",
        "    step = input(\"Type in UP/DOWN/LEFT/RIGHT #step number: \")\n",
        "\n",
        "    if step == \"\":\n",
        "        break\n",
        "\n",
        "    else:\n",
        "        step = step.split(\" \")\n",
        "\n",
        "        if step[0] == \"UP\":\n",
        "            y = y + int(step[1])\n",
        "        elif step[0] == \"DOWN\":\n",
        "            y = y - int(step[1])\n",
        "        elif step[0] == \"LEFT\":\n",
        "            x = x - int(step[1])\n",
        "        elif step[0] == \"RIGHT\":\n",
        "            x = x + int(step[1])\n",
        "\n",
        "c = math.sqrt(x**2 + y**2)\n",
        "\n",
        "print(\"Distance:\", c)"
      ],
      "metadata": {
        "colab": {
          "base_uri": "https://localhost:8080/"
        },
        "id": "kPc3gz9vp6ca",
        "outputId": "693cd96b-72f1-416d-eccb-8af78be4be5c"
      },
      "execution_count": null,
      "outputs": [
        {
          "output_type": "stream",
          "name": "stdout",
          "text": [
            "Type in UP/DOWN/LEFT/RIGHT #step number: UP 5\n",
            "Type in UP/DOWN/LEFT/RIGHT #step number: DOWN 3\n",
            "Type in UP/DOWN/LEFT/RIGHT #step number: LEFT 3\n",
            "Type in UP/DOWN/LEFT/RIGHT #step number: RIGHT 2\n",
            "Type in UP/DOWN/LEFT/RIGHT #step number: \n",
            "Distance: 2.23606797749979\n"
          ]
        }
      ]
    },
    {
      "cell_type": "code",
      "source": [
        "# 22. Write a program to compute the frequency of the words from the input. The output\n",
        "# should output after sorting the key alphanumerically.\n",
        "# Suppose the input is supplied to the program:\n",
        "# New to Python or choosing between Python 2 and Python 3? Read Python 2 or Python 3.\n",
        "# Then, the output should be:\n",
        "# 2:2\n",
        "# 3.:1\n",
        "# 3?:1\n",
        "# New:1\n",
        "# Python:5\n",
        "# Read:1\n",
        "# and:1\n",
        "# between:1\n",
        "# choosing:1\n",
        "# or:2\n",
        "# to:1\n",
        "# Hints: In case of input data being supplied to the question, it should be assumed to be a\n",
        "# console input.\n",
        "import operator\n",
        "\n",
        "text_line = input(\"Type in: \")\n",
        "\n",
        "freq_dict = {}\n",
        "\n",
        "for i in text_line.split(' '):\n",
        "    if i.isalpha():\n",
        "        if i not in freq_dict:\n",
        "            freq_dict[i] = 1\n",
        "        elif i in freq_dict:\n",
        "            freq_dict[i] = freq_dict[i] + 1\n",
        "    else:\n",
        "        pass\n",
        "\n",
        "sorted_freq_dict = sorted(freq_dict.items(), key = operator.itemgetter(0))\n",
        "print(sorted_freq_dict)\n",
        "\n",
        "for i in sorted_freq_dict:\n",
        "    print(i[0], i[1])"
      ],
      "metadata": {
        "colab": {
          "base_uri": "https://localhost:8080/"
        },
        "id": "lpr1NnCsqabc",
        "outputId": "1b539165-abdb-46a9-dead-1aecef7d6d0b"
      },
      "execution_count": null,
      "outputs": [
        {
          "output_type": "stream",
          "name": "stdout",
          "text": [
            "Type in: New to Python or choosing between Python 2 and Python 3? Read Python 2 or Python 3.\n",
            "[('New', 1), ('Python', 5), ('Read', 1), ('and', 1), ('between', 1), ('choosing', 1), ('or', 2), ('to', 1)]\n",
            "New 1\n",
            "Python 5\n",
            "Read 1\n",
            "and 1\n",
            "between 1\n",
            "choosing 1\n",
            "or 2\n",
            "to 1\n"
          ]
        }
      ]
    },
    {
      "cell_type": "code",
      "source": [
        "# 23. Write a method which can calculate square value of number\n",
        "# Hints: Using the ** operator\n",
        "n = int(input())\n",
        "square = n ** 2\n",
        " \n",
        "# Printing square\n",
        "print(square)"
      ],
      "metadata": {
        "colab": {
          "base_uri": "https://localhost:8080/"
        },
        "id": "LG8jHIaAreBC",
        "outputId": "638de6b4-3918-48d6-9219-e595428044a4"
      },
      "execution_count": null,
      "outputs": [
        {
          "output_type": "stream",
          "name": "stdout",
          "text": [
            "5\n",
            "25\n"
          ]
        }
      ]
    },
    {
      "cell_type": "code",
      "source": [
        "# 26. Define a function which can compute the sum of twonumbers.\n",
        "# Hints: Define a function with two numbers as arguments. You can compute the sum in the\n",
        "# function and return the value.\n",
        "\n",
        "def sum(x,y):\n",
        "  return (x+y)\n",
        "\n",
        "x = input().split(\" \")\n",
        "\n",
        "print(sum(int(x[0]),int(x[1])))"
      ],
      "metadata": {
        "colab": {
          "base_uri": "https://localhost:8080/"
        },
        "id": "jRYWmyOpwhCu",
        "outputId": "a23b5d97-02b4-44d4-ec93-682f6f9e7f88"
      },
      "execution_count": null,
      "outputs": [
        {
          "output_type": "stream",
          "name": "stdout",
          "text": [
            "8 4\n",
            "12\n"
          ]
        }
      ]
    },
    {
      "cell_type": "code",
      "source": [
        "# 27. Define a function that can convert a integer into a string and print it in console.\n",
        "# Hints: Use str() to convert a number to string.\n",
        "\n",
        "x = int(input())\n",
        "print(str(x))"
      ],
      "metadata": {
        "colab": {
          "base_uri": "https://localhost:8080/"
        },
        "id": "8QMSc7f2yxot",
        "outputId": "ec383019-0ddf-4b37-ef2b-c46dd5ec053e"
      },
      "execution_count": null,
      "outputs": [
        {
          "output_type": "stream",
          "name": "stdout",
          "text": [
            "57895875\n",
            "57895875\n"
          ]
        }
      ]
    },
    {
      "cell_type": "code",
      "source": [
        "# 28. Define a function that can convert a integer into a string and print it in console.\n",
        "# Hints: Use str() to convert a number to string.\n",
        "\n",
        "x = str(input())\n",
        "print(int(x))\n"
      ],
      "metadata": {
        "colab": {
          "base_uri": "https://localhost:8080/"
        },
        "id": "8K8NX5eYzS9F",
        "outputId": "6631f139-009d-4bca-ec5e-16c315db8b5d"
      },
      "execution_count": null,
      "outputs": [
        {
          "output_type": "stream",
          "name": "stdout",
          "text": [
            "589\n",
            "589\n"
          ]
        }
      ]
    },
    {
      "cell_type": "code",
      "source": [
        "# 29. Define a function that can receive two integral numbers in string form and compute\n",
        "# their sum and then print it in console.\n",
        "# Hints: Use int() to convert a string to integer\n",
        "def sum(x,y):\n",
        "  return (x+y)\n",
        "\n",
        "x = input().split(\" \")\n",
        "\n",
        "print(sum(int(x[0]),int(x[1])))\n"
      ],
      "metadata": {
        "colab": {
          "base_uri": "https://localhost:8080/"
        },
        "id": "wN38zcs7zTpN",
        "outputId": "e00d0ad9-597f-4161-d48f-dbf49a3a922d"
      },
      "execution_count": null,
      "outputs": [
        {
          "output_type": "stream",
          "name": "stdout",
          "text": [
            "5 7\n",
            "12\n"
          ]
        }
      ]
    },
    {
      "cell_type": "code",
      "source": [
        "# 30. Define a function that can accept two strings as input and concatenate them and then\n",
        "# print it in console.\n",
        "# Hints: Use + to concatenate the strings\n",
        "\n",
        "def SumFunction(number1, number2):\n",
        "\treturn number1 + number2\n",
        "\n",
        "strg1 = input()\n",
        "strg2 = input()\n",
        "\n",
        "\n",
        "print (SumFunction(str(strg1),str(strg2)))\n"
      ],
      "metadata": {
        "colab": {
          "base_uri": "https://localhost:8080/"
        },
        "id": "QuHAsKvAzWt9",
        "outputId": "ebebbe20-0eff-4fda-9892-117ad5b6a86a"
      },
      "execution_count": null,
      "outputs": [
        {
          "output_type": "stream",
          "name": "stdout",
          "text": [
            "sdfsd\n",
            "sdfdsfsf\n",
            "sdfsdsdfdsfsf\n"
          ]
        }
      ]
    },
    {
      "cell_type": "code",
      "source": [
        "# 31. Define a function that can accept two strings as input and print the string with maximum\n",
        "# length in console. If two strings have the same length, then the function should print al l\n",
        "# strings line by line.\n",
        "# Hints: Use len() function to get the length of a string\n",
        "\n",
        "def max_length(y):\n",
        "  l1 = len(y[0])\n",
        "  l2 = len(y[1])\n",
        "  if l1>l2:\n",
        "    return y[0]\n",
        "  elif l2>l1:\n",
        "    return y[1]\n",
        "  else:\n",
        "    return y\n",
        "\n",
        "x=input('enter two string with using space\\n')\n",
        "print(max_length(x.split()))"
      ],
      "metadata": {
        "colab": {
          "base_uri": "https://localhost:8080/"
        },
        "id": "Wga_EioJzY1N",
        "outputId": "e9b931df-1eef-4450-827c-69ff7b419ffe"
      },
      "execution_count": null,
      "outputs": [
        {
          "output_type": "stream",
          "name": "stdout",
          "text": [
            "enter two string with using space\n",
            "hgg hyu\n",
            "['hgg', 'hyu']\n"
          ]
        }
      ]
    },
    {
      "cell_type": "code",
      "source": [
        "# 32. Define a function that can accept an integer number as input and print the \"It is an even\n",
        "# number\" if the number is even, otherwise print \"It is an odd number\".\n",
        "# Hints: Use % operator to check if a number is even or odd.\n",
        "\n",
        "x = int(input())\n",
        "if x%2==0:\n",
        "  print(\"No. is even\")\n",
        "else:\n",
        "  print(\"No. is odd\")"
      ],
      "metadata": {
        "colab": {
          "base_uri": "https://localhost:8080/"
        },
        "id": "vqRUkrhfzad1",
        "outputId": "777d42da-814d-4d6a-df04-03517bf2346b"
      },
      "execution_count": null,
      "outputs": [
        {
          "output_type": "stream",
          "name": "stdout",
          "text": [
            "75\n",
            "No. is odd\n"
          ]
        }
      ]
    },
    {
      "cell_type": "code",
      "source": [
        "# 33. Define a function which can print a dictionary where the keys are numbers between 1\n",
        "# and 3 (both included) and the values are square of keys.\n",
        "# Hints: Use dict[key]=value pattern to put entry into a dictionary.\n",
        "# Use ** operator to get power of a number\n",
        "\n",
        "\n",
        "dicto = {'1':1,'2':2,'3':3}\n",
        "for x in dicto:\n",
        "  dicto[x] = int(x)**2\n",
        "\n",
        "print(dicto)"
      ],
      "metadata": {
        "colab": {
          "base_uri": "https://localhost:8080/"
        },
        "id": "bEvSWt8pzcWN",
        "outputId": "b6dc4ab7-26ca-4842-9ea4-5f8e198d5c9d"
      },
      "execution_count": null,
      "outputs": [
        {
          "output_type": "stream",
          "name": "stdout",
          "text": [
            "{'1': 1, '2': 4, '3': 9}\n"
          ]
        }
      ]
    },
    {
      "cell_type": "code",
      "source": [
        "# 34. Define a function which can print a dictionary where the keys are numbers between 1\n",
        "# and 20 (both included) and the values are square of keys.\n",
        "# Hints: Use dict[key]=value pattern to put entry into a dictionary.\n",
        "# Use ** operator to get power of a number. Use range() for loops.\n",
        "\n",
        "def printDict():\n",
        "\td=dict()\n",
        "\tfor i in range(1,21):\n",
        "\t\td[i]=i**2\n",
        "\tprint (d)\n",
        "\n",
        "printDict()"
      ],
      "metadata": {
        "colab": {
          "base_uri": "https://localhost:8080/"
        },
        "id": "iuwbTsR2zc0V",
        "outputId": "df557b87-583d-4d9f-d8b7-4cc75ebabbbb"
      },
      "execution_count": null,
      "outputs": [
        {
          "output_type": "stream",
          "name": "stdout",
          "text": [
            "{1: 1, 2: 4, 3: 9, 4: 16, 5: 25, 6: 36, 7: 49, 8: 64, 9: 81, 10: 100, 11: 121, 12: 144, 13: 169, 14: 196, 15: 225, 16: 256, 17: 289, 18: 324, 19: 361, 20: 400}\n"
          ]
        }
      ]
    },
    {
      "cell_type": "code",
      "source": [
        "# 35. Define a function which can generate a dictionary where the keys are numbers between\n",
        "# 1 and 20 (both included) and the values are square of keys. The function should just print\n",
        "# the values only.\n",
        "# Hints: Use dict[key]=value pattern to put entry into a dictionary. Use ** operator to get\n",
        "# power of a number. Use range() for loops. Use keys() to iterate keys in the dictionary. Also\n",
        "# we can use item() to get key/value pairs.\n",
        "\n",
        "def printDict():\n",
        "\td=dict()\n",
        "\tfor i in range(1,21):\n",
        "            d[i] = i**2\n",
        "            print(d[i], end= \" \")\n",
        "\t\n",
        "\n",
        "printDict()"
      ],
      "metadata": {
        "colab": {
          "base_uri": "https://localhost:8080/"
        },
        "id": "IZLryeKizele",
        "outputId": "6b7e632a-8090-4fd7-9b78-e1425d7f12db"
      },
      "execution_count": null,
      "outputs": [
        {
          "output_type": "stream",
          "name": "stdout",
          "text": [
            "1 4 9 16 25 36 49 64 81 100 121 144 169 196 225 256 289 324 361 400 "
          ]
        }
      ]
    },
    {
      "cell_type": "code",
      "source": [
        "# 36. Define a function which can generate a dictionary where the keys are numbers between\n",
        "# 1 and 20 (both included) and the values are square of keys. The function should just print\n",
        "# the keys only.\n",
        "# Hints: Use dict[key]=value pattern to put entry into a dictionary. Use ** operator to get\n",
        "# power of a number. Use range() for loops. Use keys() to iterate keys in the dictionary. Also\n",
        "# we can use item() to get key/value pairs.\n",
        "def printDict():\n",
        "\td=dict()\n",
        "\tfor i in range(1,21):\n",
        "            d[i] = i**2\n",
        "            print(i, end= \" \")\n",
        "\t\n",
        "\n",
        "printDict()"
      ],
      "metadata": {
        "colab": {
          "base_uri": "https://localhost:8080/"
        },
        "id": "MdrYPot-zgft",
        "outputId": "521752e6-ee80-4042-feaf-8406e0d38d3c"
      },
      "execution_count": null,
      "outputs": [
        {
          "output_type": "stream",
          "name": "stdout",
          "text": [
            "1 2 3 4 5 6 7 8 9 10 11 12 13 14 15 16 17 18 19 20 "
          ]
        }
      ]
    },
    {
      "cell_type": "code",
      "source": [
        "# 37. Define a function which can generate and print a list where the values are squareof\n",
        "# numbers between 1 and 20 (both included).\n",
        "# Hints: Use ** operator to get power of a number. Use range() for loops. Use list.append() to\n",
        "# add values into a list.\n",
        "\n",
        "def printDict():\n",
        "    d = list()\n",
        "    for i in range(1,21):\n",
        "        d.append(i**2)\n",
        "    print(d)\n",
        "\n",
        "printDict()"
      ],
      "metadata": {
        "colab": {
          "base_uri": "https://localhost:8080/"
        },
        "id": "TcnKNQCMzlUd",
        "outputId": "57a84900-a8d2-43fd-f938-064bb42ea2bf"
      },
      "execution_count": null,
      "outputs": [
        {
          "output_type": "stream",
          "name": "stdout",
          "text": [
            "[1, 4, 9, 16, 25, 36, 49, 64, 81, 100, 121, 144, 169, 196, 225, 256, 289, 324, 361, 400]\n"
          ]
        }
      ]
    },
    {
      "cell_type": "code",
      "source": [
        "# 38. Define a function which can generate a list where the values are square of numbers\n",
        "# between 1 and 20 (both included). Then the function needs to print the first 5 elements in\n",
        "# the list.\n",
        "# Hints: Use ** operator to get power of a number. Use range() for loops. Use list.append() to\n",
        "# add values into a list. Use [n1:n2] to slice a list\n",
        "def printDict():\n",
        "    d = list()\n",
        "    for i in range(1,21):\n",
        "        d.append(i**2)\n",
        "\n",
        "    for i in range(0,6):\n",
        "\n",
        "        print(d[i], end = \" \")\n",
        "\n",
        "    #print(d[0:5], end = \" \") another methord of printing using slicing\n",
        "\n",
        "printDict()\n"
      ],
      "metadata": {
        "colab": {
          "base_uri": "https://localhost:8080/"
        },
        "id": "ZmkFUVquzl-t",
        "outputId": "8a5c4c8f-e45f-422d-c62c-487ff0f8c4a0"
      },
      "execution_count": null,
      "outputs": [
        {
          "output_type": "stream",
          "name": "stdout",
          "text": [
            "1 4 9 16 25 36 [1, 4, 9, 16, 25] f"
          ]
        }
      ]
    },
    {
      "cell_type": "code",
      "source": [
        "# 39. Define a function which can generate a list where the values are square of numbers\n",
        "# between 1 and 20 (both included). Then the function needs to print the last 5 elements in\n",
        "# the list.\n",
        "# Hints: Use ** operator to get power of a number. Use range() for loops. Use list.append() to\n",
        "# add values into a list. Use [n1:n2] to slice a list\n",
        "\n",
        "def printDict():\n",
        "    d = list()\n",
        "    for i in range(1,21):\n",
        "        d.append(i**2)\n",
        "\n",
        "    print(d[15:21])\n",
        "\n",
        "\n",
        "printDict()\n"
      ],
      "metadata": {
        "colab": {
          "base_uri": "https://localhost:8080/"
        },
        "id": "R4vN0DmLzocF",
        "outputId": "77155c3c-da2a-480b-aa5a-c7f2a328f4c3"
      },
      "execution_count": null,
      "outputs": [
        {
          "output_type": "stream",
          "name": "stdout",
          "text": [
            "[256, 289, 324, 361, 400]\n"
          ]
        }
      ]
    },
    {
      "cell_type": "code",
      "source": [
        "# 40. Define a function which can generate a list where the values are square of numbers\n",
        "# between 1 and 20 (both included). Then the function needs to print all values exceptthe\n",
        "# first 5 elements in the list.\n",
        "# Hints: Use ** operator to get power of a number. Use range() for loops. Use list.append() to\n",
        "# add values into a list. Use [n1:n2] to slice a list\n",
        "\n",
        "\n",
        "def printDict():\n",
        "    d = list()\n",
        "    for i in range(1,21):\n",
        "        d.append(i**2)\n",
        "\n",
        "    print(d[:21])\n",
        "\n",
        "\n",
        "printDict()\n",
        "\n"
      ],
      "metadata": {
        "colab": {
          "base_uri": "https://localhost:8080/"
        },
        "id": "R0EWoyb3zttN",
        "outputId": "da480868-37a0-4473-8670-dc2448bf2ac2"
      },
      "execution_count": null,
      "outputs": [
        {
          "output_type": "stream",
          "name": "stdout",
          "text": [
            "[36, 49, 64, 81, 100, 121, 144, 169, 196, 225, 256, 289, 324, 361, 400]\n"
          ]
        }
      ]
    },
    {
      "cell_type": "code",
      "source": [
        "\n",
        "# 41. Define a function which can generate and print a tuple where the value are square of\n",
        "# numbers between 1 and 20 (both included).\n",
        "# Hints: Use ** operator to get power of a number. Use range() for loops. Use list.append() to\n",
        "# add values into a list. Use tuple() to get a tuple from a list.\n",
        "\n",
        "tup = list()\n",
        "for i in range(1,21):\n",
        "    tup.append(i**2)\n",
        "\n",
        "print (tup)"
      ],
      "metadata": {
        "cellView": "code",
        "id": "u8pvITTzzfxD",
        "colab": {
          "base_uri": "https://localhost:8080/"
        },
        "outputId": "eb793708-ee56-4950-8353-94d37f38e7c8"
      },
      "execution_count": null,
      "outputs": [
        {
          "output_type": "stream",
          "name": "stdout",
          "text": [
            "[1, 4, 9, 16, 25, 36, 49, 64, 81, 100, 121, 144, 169, 196, 225, 256, 289, 324, 361, 400]\n"
          ]
        }
      ]
    },
    {
      "cell_type": "code",
      "source": [
        "  # 42. With a given tuple (1,2,3,4,5,6,7,8,9,10), write a program to print the first half valuesin\n",
        "  # one line and the last half values in one line.\n",
        "  # Hints: Use [n1:n2] notation to get a slice from a tuple.\n",
        "\n",
        "tup = list()\n",
        "for i in range(1,21):\n",
        "    tup.append(i**2)\n",
        "\n",
        "print (tup[:10])\n",
        "print (tup[10:21])"
      ],
      "metadata": {
        "colab": {
          "base_uri": "https://localhost:8080/"
        },
        "id": "wht6T9dnzfoL",
        "outputId": "e666ff1a-cdf0-49b0-f1a1-b131b4abd3b2"
      },
      "execution_count": null,
      "outputs": [
        {
          "output_type": "stream",
          "name": "stdout",
          "text": [
            "[1, 4, 9, 16, 25, 36, 49, 64, 81, 100]\n",
            "[121, 144, 169, 196, 225, 256, 289, 324, 361, 400]\n"
          ]
        }
      ]
    },
    {
      "cell_type": "code",
      "source": [
        "  # 43. Write a program to generate and print another tuple whose values are even numbersin\n",
        "  # the given tuple (1,2,3,4,5,6,7,8,9,10).\n",
        "  # Hints: Use \"for\" to iterate the tuple. Use tuple() to generate a tuple from a list.\n",
        "\n",
        "tup = (1,2,3,4,5,6,7,8,9,10)\n",
        "\n",
        "for x in tup:\n",
        "    if x%2==0:\n",
        "        print(x, end = \" \")"
      ],
      "metadata": {
        "colab": {
          "base_uri": "https://localhost:8080/"
        },
        "id": "zRW1k9JhzjNj",
        "outputId": "e95e4f8e-23d8-4d15-a3a1-94c9c9b676e8"
      },
      "execution_count": null,
      "outputs": [
        {
          "output_type": "stream",
          "name": "stdout",
          "text": [
            "2 4 6 8 10 "
          ]
        }
      ]
    },
    {
      "cell_type": "code",
      "source": [
        "# 44. Write a program which accepts a string as input to print \"Yes\" if the string is \"yes\" or\n",
        "# \"YES\" or \"Yes\", otherwise print \"No\".\n",
        "# Hints: Use if statement to judge condition.\n",
        "\n",
        "x = str(input())\n",
        "if (x == 'Yes') or (x == 'yes') or (x == 'YES'):\n",
        "    print('Yes')\n",
        "else:\n",
        "    print('No') "
      ],
      "metadata": {
        "colab": {
          "base_uri": "https://localhost:8080/"
        },
        "id": "21IZTIP8zj7e",
        "outputId": "63e660b2-da19-4e11-b45f-45574d77121b"
      },
      "execution_count": null,
      "outputs": [
        {
          "output_type": "stream",
          "name": "stdout",
          "text": [
            "Yes\n",
            "Yes\n"
          ]
        }
      ]
    },
    {
      "cell_type": "code",
      "source": [
        "# 45. Write a program which can filter even numbers in a list by using filter function. The list\n",
        "# is: [1,2,3,4,5,6,7,8,9,10].\n",
        "# Hints: use filter() to filter some elements in a list. Use lambda to define anonymous\n",
        "# functions.\n",
        "tup = (1,2,3,4,5,6,7,8,9,10)\n",
        "\n",
        "for x in tup:\n",
        "    if x%2==0:\n",
        "        print(x, end = \" \")"
      ],
      "metadata": {
        "colab": {
          "base_uri": "https://localhost:8080/"
        },
        "id": "hi7OOqdCzj4_",
        "outputId": "78ff75ab-7fdd-4059-8cf5-0b7502e99be2"
      },
      "execution_count": null,
      "outputs": [
        {
          "output_type": "stream",
          "name": "stdout",
          "text": [
            "2 4 6 8 10 "
          ]
        }
      ]
    },
    {
      "cell_type": "code",
      "source": [
        "# 46. Write a program which can map() to make a list whose elements are square ofelements\n",
        "# in [1,2,3,4,5,6,7,8,9,10].\n",
        "# Hints: Use map() to generate a list. Use lambda to define anonymous functions.\n",
        "def square_num(n):\n",
        "  return n * n\n",
        "  \n",
        "nums = [4, 5, 2, 9]\n",
        "print(\"Original List: \",nums)\n",
        "result = map(square_num, nums)\n",
        "print(\"Square the elements of the said list using map():\")\n",
        "print(list(result))"
      ],
      "metadata": {
        "id": "xjP1KH3xzj2z",
        "colab": {
          "base_uri": "https://localhost:8080/"
        },
        "outputId": "d54752b3-8d74-47b6-b4a3-c9f31fa487b5"
      },
      "execution_count": null,
      "outputs": [
        {
          "output_type": "stream",
          "name": "stdout",
          "text": [
            "Original List:  [4, 5, 2, 9]\n",
            "Square the elements of the said list using map():\n",
            "[16, 25, 4, 81]\n"
          ]
        }
      ]
    },
    {
      "cell_type": "code",
      "source": [
        "# 47. Write a program which can map() and filter() to make a list whose elements aresquare\n",
        "# of even number in [1,2,3,4,5,6,7,8,9,10].\n",
        "\n",
        "li = [1,2,3,4,5,6,7,8,9,10]\n",
        " \n",
        "eve_num = map(lambda x: x**2, filter(lambda   x: x%2==0, li))\n",
        " \n",
        "print(list(eve_num))\n",
        " \n"
      ],
      "metadata": {
        "id": "36M31uAXzj0b",
        "colab": {
          "base_uri": "https://localhost:8080/"
        },
        "outputId": "ad5611c4-c912-4aa7-86d2-e1db8af828c9"
      },
      "execution_count": null,
      "outputs": [
        {
          "output_type": "stream",
          "name": "stdout",
          "text": [
            "[4, 16, 36, 64, 100]\n"
          ]
        }
      ]
    },
    {
      "cell_type": "code",
      "source": [
        "# 48. Write a program which can filter() to make a list whose elements are evennumber\n",
        "# between 1 and 20 (both included).\n",
        "\n",
        "lst = []\n",
        "\n",
        "for x in range(1,21):\n",
        "  lst.append(x)\n",
        "\n",
        "flt = filter(lambda x : x%2==0, lst)\n",
        "print(list(flt))"
      ],
      "metadata": {
        "id": "xEj-8DS1zjyE",
        "colab": {
          "base_uri": "https://localhost:8080/"
        },
        "outputId": "fcf5fbda-39b3-48c7-bc42-e4a7e2f36fe7"
      },
      "execution_count": null,
      "outputs": [
        {
          "output_type": "stream",
          "name": "stdout",
          "text": [
            "[2, 4, 6, 8, 10, 12, 14, 16, 18, 20]\n"
          ]
        }
      ]
    },
    {
      "cell_type": "code",
      "source": [
        "# 49. Write a program which can map() to make a list whose elements are square ofnumbers\n",
        "# between 1 and 20 (both included).\n",
        "# Hints: Use map() to generate a list. Use lambda to define anonymous functions.\n",
        "\n",
        "\n",
        "lst = []\n",
        "\n",
        "for x in range(1,21):\n",
        "  lst.append(x)\n",
        "\n",
        "mp = map(lambda x: x**2,lst)\n",
        "print(list(mp))"
      ],
      "metadata": {
        "id": "_WnYTsMGzjvb",
        "colab": {
          "base_uri": "https://localhost:8080/"
        },
        "outputId": "3e7c531a-2b95-4f03-cf44-4c2c11ae81c7"
      },
      "execution_count": null,
      "outputs": [
        {
          "output_type": "stream",
          "name": "stdout",
          "text": [
            "[1, 4, 9, 16, 25, 36, 49, 64, 81, 100, 121, 144, 169, 196, 225, 256, 289, 324, 361, 400]\n"
          ]
        }
      ]
    },
    {
      "cell_type": "code",
      "source": [
        "# 50. Define a class named American which has a static method called printNationality.\n",
        "# Hints: Use @staticmethod decorator to define class static method.\n",
        "class American(object):\n",
        "    @staticmethod\n",
        "    def printNationality():\n",
        "        print (\"America\")\n",
        "\n",
        "anAmerican = American()\n",
        "anAmerican.printNationality()\n",
        "American.printNationality()"
      ],
      "metadata": {
        "id": "wyemjlHJzjsz",
        "colab": {
          "base_uri": "https://localhost:8080/"
        },
        "outputId": "d8f04327-44a2-4cbe-9dfd-3049e9450bb5"
      },
      "execution_count": null,
      "outputs": [
        {
          "output_type": "stream",
          "name": "stdout",
          "text": [
            "America\n",
            "America\n"
          ]
        }
      ]
    },
    {
      "cell_type": "code",
      "source": [
        "# 51. Define a class named American and its subclass NewYorker.\n",
        "# Hints: Use class Subclass(ParentClass) to define a subclass.\n",
        "class American():\n",
        "    pass\n",
        "\n",
        "class NewYorker(American):\n",
        "    pass\n",
        "\n",
        "american = American()\n",
        "newyorker = NewYorker()\n",
        "\n",
        "print(american)\n",
        "print(newyorker)"
      ],
      "metadata": {
        "id": "Fruk45MDzjnr",
        "colab": {
          "base_uri": "https://localhost:8080/"
        },
        "outputId": "16de9e06-994e-48b5-f8c8-cd68521b356c"
      },
      "execution_count": null,
      "outputs": [
        {
          "output_type": "stream",
          "name": "stdout",
          "text": [
            "<__main__.American object at 0x7fa61be9a510>\n",
            "<__main__.NewYorker object at 0x7fa61be9a090>\n"
          ]
        }
      ]
    },
    {
      "cell_type": "code",
      "source": [
        "# 52. Define a class named Circle which can be constructed by a radius. The Circle class has a\n",
        "# method which can compute the area.\n",
        "# Hints: Use def methodName(self) to define a method.\n",
        "class Circle(object):\n",
        "    def __init__(self, r):\n",
        "        self.radius = r\n",
        "\n",
        "    def area(self):\n",
        "        return self.radius**2*3.14\n",
        "\n",
        "aCircle = Circle(10)\n",
        "print (aCircle.area())"
      ],
      "metadata": {
        "id": "QMKJTYh7zjGT",
        "colab": {
          "base_uri": "https://localhost:8080/"
        },
        "outputId": "afb47815-ba69-46d0-abca-77e0e6158c60"
      },
      "execution_count": null,
      "outputs": [
        {
          "output_type": "stream",
          "name": "stdout",
          "text": [
            "314.0\n"
          ]
        }
      ]
    },
    {
      "cell_type": "code",
      "source": [
        "# 53. Define a class named Rectangle which can be constructed by a length and width. The\n",
        "# Rectangle class has a method which can compute the area.\n",
        "# Hints: Use def methodName(self) to define a method.\n",
        "\n",
        "class Rectangle(object):\n",
        "    def __init__(self, l, w):\n",
        "        self.length = l\n",
        "        self.width  = w\n",
        "\n",
        "    def area(self):\n",
        "        return self.length*self.width\n",
        "\n",
        "r = Rectangle(14,10)\n",
        "print (r.area())"
      ],
      "metadata": {
        "id": "yOHETa-szz_D",
        "colab": {
          "base_uri": "https://localhost:8080/"
        },
        "outputId": "0d2e48fe-4183-415e-8c3d-31f1184c398c"
      },
      "execution_count": null,
      "outputs": [
        {
          "output_type": "stream",
          "name": "stdout",
          "text": [
            "140\n"
          ]
        }
      ]
    },
    {
      "cell_type": "code",
      "source": [
        "# 54. Define a class named Shape and its subclass Square. The Square class has an init function\n",
        "# which takes a length as argument. Both classes have a area function which can print the\n",
        "# area of the shape where Shape's area is 0 by default.\n",
        "class Shape(object):\n",
        "    def __init__(self):\n",
        "        pass\n",
        "\n",
        "    def area(self):\n",
        "        return 0\n",
        "\n",
        "class Square(Shape):\n",
        "    def __init__(self, l):\n",
        "        Shape.__init__(self)\n",
        "        self.length = l\n",
        "\n",
        "    def area(self):\n",
        "        return self.length*self.length\n",
        "\n",
        "s= Square(14)\n",
        "print (s.area())"
      ],
      "metadata": {
        "id": "q6W70vTczz8i",
        "colab": {
          "base_uri": "https://localhost:8080/"
        },
        "outputId": "ca64c493-b6f8-4240-c71d-7c54fa0b61a2"
      },
      "execution_count": null,
      "outputs": [
        {
          "output_type": "stream",
          "name": "stdout",
          "text": [
            "196\n"
          ]
        }
      ]
    },
    {
      "cell_type": "code",
      "source": [
        "# 55. Write a function to compute 5/0 and use try/except to catch the exceptions.\n",
        "# Hints: Use try/except to catch exceptions.\n",
        "def divide():\n",
        "    return 5/0\n",
        "\n",
        "try:\n",
        "    divide()\n",
        "except ZeroDivisionError as ze:\n",
        "    print(\"error\")\n",
        "except:\n",
        "    print(\"Any other exception\")"
      ],
      "metadata": {
        "id": "WiurCYggzz6W",
        "colab": {
          "base_uri": "https://localhost:8080/"
        },
        "outputId": "14a15760-64f9-44cb-c03f-18d6f0fe751e"
      },
      "execution_count": null,
      "outputs": [
        {
          "output_type": "stream",
          "name": "stdout",
          "text": [
            "error\n"
          ]
        }
      ]
    },
    {
      "cell_type": "code",
      "source": [
        "# 56. Define a custom exception class which takes a string message as attribute.\n",
        "# Hints: To define a custom exception, we need to define a class inherited from Exception.\n",
        "\n",
        "class MyError(Exception):\n",
        "\n",
        "    def __init__(self, msg):\n",
        "        self.msg = msg\n",
        "\n",
        "error = MyError(\"something wrong\")"
      ],
      "metadata": {
        "id": "zQmz3sa9zz4E"
      },
      "execution_count": null,
      "outputs": []
    },
    {
      "cell_type": "code",
      "source": [
        "# 57. Assuming that we have some email addresses in the\"username@companyname.com\"\n",
        "# format, please write program to print the user name of a given email address. Both user\n",
        "# names and company names are composed of letters only.\n",
        "# If the following email address is given as input to the program: Chandra@analytixlabs.com\n",
        "# Then, the output of the program should be: Chandra\n",
        "\n",
        "import re\n",
        "emailAddress = input()\n",
        "pat2 = \"(\\w+)@(\\w+)\\.(com)\"\n",
        "r2 = re.match(pat2,emailAddress)\n",
        "print (r2.group(1))"
      ],
      "metadata": {
        "id": "bZrQDniqzz1l",
        "colab": {
          "base_uri": "https://localhost:8080/"
        },
        "outputId": "d48520c6-1155-4769-bae9-4e39b8037c3d"
      },
      "execution_count": null,
      "outputs": [
        {
          "output_type": "stream",
          "name": "stdout",
          "text": [
            "sorajkandari@gmail.com\n",
            "sorajkandari\n"
          ]
        }
      ]
    },
    {
      "cell_type": "code",
      "source": [
        "# 58. Assuming that we have some email addresses in the\"username@companyname.com\"\n",
        "# format, please write program to print the company name of a given email address. Both\n",
        "# user names and company names are composed of letters only.\n",
        "# If the following email address is given as input to the program: Chandra@analytixlabs.com\n",
        "# Then, the output of the program should be: analytixlabs\n",
        "# In case of input data being supplied to the question, it should be assumed to be a console\n",
        "# input.\n",
        "# Hints: Use \\w to match letters\n",
        "\n",
        "import re\n",
        "emailAddress = input()\n",
        "pat2 = \"(\\w+)@(\\w+)\\.(com)\"\n",
        "r2 = re.match(pat2,emailAddress)\n",
        "print (r2.group(2))"
      ],
      "metadata": {
        "id": "bEsRRNBzzzzL",
        "colab": {
          "base_uri": "https://localhost:8080/"
        },
        "outputId": "a049a7c5-53c4-4431-e08f-373c04cabce3"
      },
      "execution_count": null,
      "outputs": [
        {
          "output_type": "stream",
          "name": "stdout",
          "text": [
            "sorajkandari@gmail.com\n",
            "gmail\n"
          ]
        }
      ]
    },
    {
      "cell_type": "code",
      "source": [
        "# 59. Write a program which accepts a sequence of words separated by whitespace asinput\n",
        "# to print the words composed of digits only.\n",
        "# If the following words are given as input to the program: 2 cats and 3 dogs.\n",
        "# Then, the output of the program should be: ['2', '3']\n",
        "# In case of input data being supplied to the question, it should be assumed to be a console\n",
        "# input.\n",
        "# Hints: Use re.findall() to find all substring using regex.\n",
        "\n",
        "import re\n",
        "\n",
        "email = input()\n",
        "pattern = \"\\d+\"  #basically d is for digit\n",
        "ans = re.findall(pattern,email)\n",
        "print(ans)"
      ],
      "metadata": {
        "id": "P3lUtroFzzwy",
        "colab": {
          "base_uri": "https://localhost:8080/"
        },
        "outputId": "8aae431f-c00a-41c0-f349-4078226cfb11"
      },
      "execution_count": null,
      "outputs": [
        {
          "output_type": "stream",
          "name": "stdout",
          "text": [
            "2 cats and 3 dogs\n",
            "['2', '3']\n"
          ]
        }
      ]
    },
    {
      "cell_type": "code",
      "source": [
        "# 60. Print a unicode string \"hello world\".\n",
        "# Hints: Use u'strings' format to define unicode string.\n",
        "\n",
        "unicodeString = u\"hello world!\"\n",
        "print (unicodeString)"
      ],
      "metadata": {
        "id": "OlS3wd1mzzuq",
        "colab": {
          "base_uri": "https://localhost:8080/"
        },
        "outputId": "4af09a18-a127-424b-bd79-fbd0991ecda2"
      },
      "execution_count": null,
      "outputs": [
        {
          "output_type": "stream",
          "name": "stdout",
          "text": [
            "hello world!\n"
          ]
        }
      ]
    },
    {
      "cell_type": "code",
      "source": [
        "# 61. Write a program to read an ASCII string and to convert it to a unicode string encoded by\n",
        "# utf-8.\n",
        "# Hints: Use unicode() function to convert.\n",
        "\n",
        "s = input()\n",
        "u = s.encode('utf-8')\n",
        "print(u)"
      ],
      "metadata": {
        "id": "cvwTgYDMzzsU",
        "colab": {
          "base_uri": "https://localhost:8080/"
        },
        "outputId": "27f94bf0-1d81-4593-9eb1-1f1484bb971e"
      },
      "execution_count": null,
      "outputs": [
        {
          "output_type": "stream",
          "name": "stdout",
          "text": [
            "hello everyone how are u?\n",
            "b'hello everyone how are u?'\n"
          ]
        }
      ]
    },
    {
      "cell_type": "code",
      "source": [
        "# 62. Write a special comment to indicate a Python source code file is in unicode.\n",
        "# -*- coding: utf-8 -*-"
      ],
      "metadata": {
        "id": "fqh9pesjzzqC"
      },
      "execution_count": null,
      "outputs": []
    },
    {
      "cell_type": "code",
      "source": [
        "# 63. Write a program to compute 1/2+2/3+3/4+...+n/n+1 with a given n input by console\n",
        "# (n>0).\n",
        "# If the following n is given as input to the program: 5\n",
        "# Then, the output of the program should be: 3.55\n",
        "# In case of input data being supplied to the question, it should be assumed to be a console\n",
        "# input.\n",
        "# Hints: Use float() to convert an integer to a float\n",
        "\n",
        "n = int(input())\n",
        "sum = 0\n",
        "for i in range(1, n+1):\n",
        "    sum+= i/(i+1)\n",
        "print(round(sum, 2))  "
      ],
      "metadata": {
        "id": "gGRZkTBlzzls",
        "colab": {
          "base_uri": "https://localhost:8080/"
        },
        "outputId": "91862c33-e39f-49e3-a8ed-f601a0baa16c"
      },
      "execution_count": null,
      "outputs": [
        {
          "output_type": "stream",
          "name": "stdout",
          "text": [
            "10\n",
            "7.98\n"
          ]
        }
      ]
    },
    {
      "cell_type": "code",
      "source": [
        "# 64. Write a program to compute:\n",
        "# f(n)=f(n-1)+100 when n>0\n",
        "# and f(0)=1\n",
        "# with a given n input by console (n>0).\n",
        "# If the following n is given as input to the program: 5\n",
        "# Then, the output of the program should be: 500\n",
        "# In case of input data being supplied to the question, it should be assumed to be a console\n",
        "# input.\n",
        "# Hints: We can define recursive function in Python.\n",
        "def f(n):\n",
        "    if n == 0:\n",
        "        return 0\n",
        "    return f(n-1) + 100\n",
        "\n",
        "n = int(input())\n",
        "print(f(n))"
      ],
      "metadata": {
        "id": "QkVVD5nh0Jo9",
        "colab": {
          "base_uri": "https://localhost:8080/"
        },
        "outputId": "eebced2b-e2aa-4ee5-9f4d-9692c298f576"
      },
      "execution_count": null,
      "outputs": [
        {
          "output_type": "stream",
          "name": "stdout",
          "text": [
            "5\n",
            "500\n"
          ]
        }
      ]
    },
    {
      "cell_type": "code",
      "source": [
        "# 65. The Fibonacci sequence is computed based on the following formula:\n",
        "# f(n)=0 if n=0\n",
        "# f(n)=1 if n=1\n",
        "# f(n)=f(n-1)+f(n-2) if n>1\n",
        "# Please write a program to compute the value of f(n) with a given n input by console.\n",
        "# If the following n is given as input to the program: 7\n",
        "# Then, the output of the program should be: 13\n",
        "# In case of input data being supplied to the question, it should be assumed to be a console\n",
        "# input.\n",
        "# Hints: We can define recursive function in Python.\n",
        "def f(n):\n",
        "    if n < 2:\n",
        "        return n\n",
        "    return f(n-1) + f(n-2)\n",
        "\n",
        "n = int(input())\n",
        "print(f(n))"
      ],
      "metadata": {
        "id": "ijXvU1Yc0JlW",
        "colab": {
          "base_uri": "https://localhost:8080/"
        },
        "outputId": "c29aad6a-5485-4167-c252-d4d5f42a0eb3"
      },
      "execution_count": null,
      "outputs": [
        {
          "output_type": "stream",
          "name": "stdout",
          "text": [
            "10\n",
            "55\n"
          ]
        }
      ]
    },
    {
      "cell_type": "code",
      "source": [
        "# 66. The Fibonacci sequence is computed based on the following formula:\n",
        "# f(n)=0 if n=0\n",
        "# f(n)=1 if n=1\n",
        "# f(n)=f(n-1)+f(n-2) if n>1\n",
        "# Please write a program using list comprehension to print the Fibonacci sequence in comma\n",
        "# separated form with a given n input by console.\n",
        "# If the following n is given as input to the program: 7\n",
        "# Then, the output of the program should be: 0, 1, 1, 2, 3, 5, 8, 13\n",
        "# Hints: We can define recursive function in Python. Use list comprehension to generate a list\n",
        "# from an existing list. Use string.join() to join a list of strings. In case of input data being\n",
        "# supplied to the question, it should be assumed to be a console input.\n",
        "\n",
        "def fibo(n):\n",
        "    if n < 2: return n\n",
        "    return fibo(n-1)+fibo(n-2)\n",
        "\n",
        "def print_fiblist(n):\n",
        "    fib_list = [(str(fibo(i))) for i in range(0, n+1)]\n",
        "    return print(\",\".join(fib_list))\n",
        "    \n",
        "n = int(input())\n",
        "print_fiblist(n)"
      ],
      "metadata": {
        "id": "RPvIWVRE0JiD",
        "colab": {
          "base_uri": "https://localhost:8080/"
        },
        "outputId": "0f644e14-bf8a-42d2-dd3a-58a6ed1b7514"
      },
      "execution_count": null,
      "outputs": [
        {
          "output_type": "stream",
          "name": "stdout",
          "text": [
            "10\n",
            "0,1,1,2,3,5,8,13,21,34,55\n"
          ]
        }
      ]
    },
    {
      "cell_type": "code",
      "source": [
        "# 67. Please write a program using generator to print the even numbers between 0 and n in\n",
        "# comma separated form while n is input by console.\n",
        "# Example: If the following n is given as input to the program: 10\n",
        "# Then, the output of the program should be: 0,2,4,6,8,10\n",
        "# Hints: Use yield to produce the next value in generator. In case of input data being supplied\n",
        "# to the question, it should be assumed to be a console input.\n",
        "n = int(input())\n",
        "\n",
        "for i in range(0, n+1, 2):\n",
        "  if i < n - 1:\n",
        "    print(i, end = ',' )\n",
        "  else:\n",
        "    print(i)"
      ],
      "metadata": {
        "id": "MBMOeo_k0Je9",
        "colab": {
          "base_uri": "https://localhost:8080/"
        },
        "outputId": "88349331-7386-4708-e043-ca209d56a6b1"
      },
      "execution_count": null,
      "outputs": [
        {
          "output_type": "stream",
          "name": "stdout",
          "text": [
            "22\n",
            "0,2,4,6,8,10,12,14,16,18,20,22\n"
          ]
        }
      ]
    },
    {
      "cell_type": "code",
      "source": [
        "# 68. Please write a program using generator to print the numbers which can be divisible by 5\n",
        "# and 7 between 0 and n in comma separated form while n is input by console.\n",
        "# If the following n is given as input to the program: 100\n",
        "# Then, the output of the program should be: 0, 35, 70\n",
        "\n",
        "def generate(n):\n",
        "    for i in range(n+1):\n",
        "        if i % 35 == 0:    \n",
        "            yield i\n",
        "\n",
        "n = int(input())\n",
        "resp = [str(i) for i in generate(n)]\n",
        "print(\",\".join(resp))"
      ],
      "metadata": {
        "id": "DdMdSy8B0Jbj",
        "colab": {
          "base_uri": "https://localhost:8080/"
        },
        "outputId": "c4ef3bf2-c3b3-41a0-f373-5ea0340593ec"
      },
      "execution_count": null,
      "outputs": [
        {
          "output_type": "stream",
          "name": "stdout",
          "text": [
            "1000\n",
            "0,35,70,105,140,175,210,245,280,315,350,385,420,455,490,525,560,595,630,665,700,735,770,805,840,875,910,945,980\n"
          ]
        }
      ]
    },
    {
      "cell_type": "code",
      "source": [
        "# 69. Please write assert statements to verify that every number in the list [2,4,6,8] is even.\n",
        "# Hints: Use \"assert expression\" to make assertion.\n",
        "li = [2,4,6,8]\n",
        "for i in li:\n",
        "    assert i%2==0"
      ],
      "metadata": {
        "id": "oID0Dwxd0JX7"
      },
      "execution_count": null,
      "outputs": []
    },
    {
      "cell_type": "code",
      "source": [
        "# 70. Please write a program which accepts basic mathematic expression from consoleand\n",
        "# print the evaluation result.\n",
        "# If the following string is given as input to the program: 35+3\n",
        "# Then, the output of the program should be: 38\n",
        "# Hints: Use eval() to evaluate an expression.\n",
        "\n",
        "expression = input()\n",
        "ans = eval(expression)\n",
        "print(ans)"
      ],
      "metadata": {
        "id": "7mjhifcv0JTU",
        "colab": {
          "base_uri": "https://localhost:8080/"
        },
        "outputId": "3fc464e9-63d6-4851-d005-154739821920"
      },
      "execution_count": null,
      "outputs": [
        {
          "output_type": "stream",
          "name": "stdout",
          "text": [
            "25*10+3\n",
            "253\n"
          ]
        }
      ]
    },
    {
      "cell_type": "code",
      "source": [
        "# 71. Please write a binary search function which searches an item in a sorted list. The\n",
        "# function should return the index of element to be searched in the list.\n",
        "# Hints: Use if/elif to deal with conditions\n",
        "\n",
        "def binary_search(lst, item):\n",
        "    low = 0\n",
        "    high = len(lst) - 1\n",
        "    \n",
        "    while low <= high:\n",
        "        mid = round((low + high) / 2)\n",
        "        \n",
        "        if lst[mid] == item:\n",
        "            return mid\n",
        "        elif lst[mid] > item:\n",
        "            high = mid - 1\n",
        "        else:\n",
        "            low = mid + 1\n",
        "    return None\n",
        "    \n",
        "lst = [1,3,5,7,9,15,75,84,603,2114]\n",
        "print(binary_search(lst, 84))   "
      ],
      "metadata": {
        "colab": {
          "base_uri": "https://localhost:8080/"
        },
        "id": "FH_MQXhbNe50",
        "outputId": "7cab64d8-94e9-45a2-86f1-d10ad117a5c5"
      },
      "execution_count": null,
      "outputs": [
        {
          "output_type": "stream",
          "name": "stdout",
          "text": [
            "7\n"
          ]
        }
      ]
    },
    {
      "cell_type": "code",
      "source": [
        "# 72. Please write a binary search function which searches an item in a sorted list. The\n",
        "# function should return the index of element to be searched in the list.\n",
        "# Hints: Use if/elif to deal with conditions.\n",
        "def binary_search(lst, item):\n",
        "    low = 0\n",
        "    high = len(lst) - 1\n",
        "    \n",
        "    while low <= high:\n",
        "        mid = round((low + high) / 2)\n",
        "        \n",
        "        if lst[mid] == item:\n",
        "            return mid\n",
        "        elif lst[mid] > item:\n",
        "            high = mid - 1\n",
        "        else:\n",
        "            low = mid + 1\n",
        "    return None\n",
        "    \n",
        "lst = [1,3,5,7,9,15,75,84,603,2114]\n",
        "print(binary_search(lst, 4))   \n"
      ],
      "metadata": {
        "colab": {
          "base_uri": "https://localhost:8080/"
        },
        "id": "RaHZSebjNhnU",
        "outputId": "2cfa9eb8-9737-4961-a7a8-994d623d0b3f"
      },
      "execution_count": null,
      "outputs": [
        {
          "output_type": "stream",
          "name": "stdout",
          "text": [
            "None\n"
          ]
        }
      ]
    },
    {
      "cell_type": "code",
      "source": [
        "# 73. Please generate a random float where the value is between 10 and 100 usingPython\n",
        "# math module.\n",
        "# Hints: Use random.random() to generate a random float in [0,1].\n",
        "import random\n",
        "rand_num = random.uniform(10,100)\n",
        "print(rand_num)"
      ],
      "metadata": {
        "colab": {
          "base_uri": "https://localhost:8080/"
        },
        "id": "7aSAvSV9Nl5U",
        "outputId": "8a4e6c94-a656-4180-ae88-461cb2d47ab4"
      },
      "execution_count": null,
      "outputs": [
        {
          "output_type": "stream",
          "name": "stdout",
          "text": [
            "25.06736917544358\n"
          ]
        }
      ]
    },
    {
      "cell_type": "code",
      "source": [
        "# 74. Please generate a random float where the value is between 5 and 95 usingPython math\n",
        "# module.\n",
        "# Hints: Use random.random() to generate a random float in [0,1].\n",
        "import random\n",
        "rand_num = random.uniform(5,95)\n",
        "print(rand_num)"
      ],
      "metadata": {
        "colab": {
          "base_uri": "https://localhost:8080/"
        },
        "id": "7NgwJK6YNl2F",
        "outputId": "672d263f-2077-4723-bc23-d84476505d3d"
      },
      "execution_count": null,
      "outputs": [
        {
          "output_type": "stream",
          "name": "stdout",
          "text": [
            "31.25647337286666\n"
          ]
        }
      ]
    },
    {
      "cell_type": "code",
      "source": [
        "# 75. Please write a program to output a random even number between 0 and 10 inclusive\n",
        "# using random module and list comprehension.\n",
        "# Hints: Use random.choice() to a random element from a list.\n",
        "import random\n",
        "resp = [i for i in range(0,11,2)]\n",
        "print(random.choice(resp))"
      ],
      "metadata": {
        "colab": {
          "base_uri": "https://localhost:8080/"
        },
        "id": "iRKpjBqXNlzd",
        "outputId": "1de82bce-7094-46f4-fe91-1c67aafbbf75"
      },
      "execution_count": null,
      "outputs": [
        {
          "output_type": "stream",
          "name": "stdout",
          "text": [
            "6\n"
          ]
        }
      ]
    },
    {
      "cell_type": "code",
      "source": [
        "# 76. Please write a program to output a random number, which is divisible by 5 and7,\n",
        "# between 0 and 100 inclusive using random module and list comprehension.\n",
        "# Hints: Use random.choice() to a random element from a list.\n",
        "import random\n",
        "resp = [i for i in range(0,101) if i % 35 == 0 ]\n",
        "print(random.choice(resp))"
      ],
      "metadata": {
        "colab": {
          "base_uri": "https://localhost:8080/"
        },
        "id": "iV9eTlykNlxE",
        "outputId": "4e6ff6bf-2d0d-43c5-dada-de0a82c96d09"
      },
      "execution_count": null,
      "outputs": [
        {
          "output_type": "stream",
          "name": "stdout",
          "text": [
            "35\n"
          ]
        }
      ]
    },
    {
      "cell_type": "code",
      "source": [
        "# 77. Please write a program to generate a list with 5 random numbers between 100 and200\n",
        "# inclusive.\n",
        "# Hints: Use random.sample() to generate a list of random values.\n",
        "import random\n",
        "resp = random.sample(range(100,201),5)\n",
        "print(resp)"
      ],
      "metadata": {
        "colab": {
          "base_uri": "https://localhost:8080/"
        },
        "id": "hUZei56-Nluo",
        "outputId": "98c8f6db-a11b-49ac-bfb1-5ee5ba6647da"
      },
      "execution_count": null,
      "outputs": [
        {
          "output_type": "stream",
          "name": "stdout",
          "text": [
            "[160, 171, 102, 139, 166]\n"
          ]
        }
      ]
    },
    {
      "cell_type": "code",
      "source": [
        "# 78. Please write a program to randomly generate a list with 5 even numbers between 100\n",
        "# and 200 inclusive.\n",
        "# Hints: Use random.sample() to generate a list of random values.\n",
        "import random\n",
        "resp = random.sample(range(100,201,2),5)\n",
        "print(resp)\n"
      ],
      "metadata": {
        "colab": {
          "base_uri": "https://localhost:8080/"
        },
        "id": "4aAf6EG2NlsT",
        "outputId": "6f6b112d-20fd-4888-d008-231a8dba3f62"
      },
      "execution_count": null,
      "outputs": [
        {
          "output_type": "stream",
          "name": "stdout",
          "text": [
            "[190, 138, 106, 180, 142]\n"
          ]
        }
      ]
    },
    {
      "cell_type": "code",
      "source": [
        "# 79. Please write a program to randomly generate a list with 5 numbers, which are divisible\n",
        "# by 5 and 7 , between 1 and 1000 inclusive.\n",
        "# Hints: Use random.sample() to generate a list of random values.\n",
        "import random\n",
        "lst = [i for i in range(1,1001) if i%35 == 0]\n",
        "resp = random.sample(lst,5)\n",
        "print(resp)"
      ],
      "metadata": {
        "colab": {
          "base_uri": "https://localhost:8080/"
        },
        "id": "9g4L1q34Nlp0",
        "outputId": "7805984e-56d7-49c9-f60a-c128b5eb287b"
      },
      "execution_count": null,
      "outputs": [
        {
          "output_type": "stream",
          "name": "stdout",
          "text": [
            "[315, 595, 280, 175, 35]\n"
          ]
        }
      ]
    },
    {
      "cell_type": "code",
      "source": [
        "# 80. Please write a program to randomly print a integer number between 7 and 15 inclusive.\n",
        "# Hints: Use random.randrange() to a random integer in a given range\n",
        "import random\n",
        "print (random.randrange(7,16))"
      ],
      "metadata": {
        "colab": {
          "base_uri": "https://localhost:8080/"
        },
        "id": "bOMzWFMlNlnU",
        "outputId": "099e7faa-c86a-4cd1-f84e-f085197ef563"
      },
      "execution_count": null,
      "outputs": [
        {
          "output_type": "stream",
          "name": "stdout",
          "text": [
            "12\n"
          ]
        }
      ]
    },
    {
      "cell_type": "code",
      "source": [
        "# 81. Please write a program to compress and decompress the string \"hello world!hello\n",
        "# world!hello world!hello world!\".\n",
        "# Hints: Use zlib.compress() and zlib.decompress() to compress and decompress a string\n",
        "import zlib\n",
        "s = 'hello world!hello world!hello world!hello world!'\n",
        "\n",
        "y = bytes(s, 'utf-8')\n",
        "x = zlib.compress(y)\n",
        "print(x)\n",
        "print(zlib.decompress(x))"
      ],
      "metadata": {
        "colab": {
          "base_uri": "https://localhost:8080/"
        },
        "id": "z-WPt5dXNlk0",
        "outputId": "632de760-96a2-4d01-c621-600ef35d1524"
      },
      "execution_count": null,
      "outputs": [
        {
          "output_type": "stream",
          "name": "stdout",
          "text": [
            "b'x\\x9c\\xcbH\\xcd\\xc9\\xc9W(\\xcf/\\xcaIQ\\xcc \\x82\\r\\x00\\xbd[\\x11\\xf5'\n",
            "b'hello world!hello world!hello world!hello world!'\n"
          ]
        }
      ]
    },
    {
      "cell_type": "code",
      "source": [
        "# 82. Please write a program to print the running time of execution of \"1+1\" for 100 times.\n",
        "# Hints: Use timeit() function to measure the running time.\n",
        "import time\n",
        "\n",
        "before = time.time()\n",
        "for i in range(100):\n",
        "    x = 1 + 1\n",
        "after = time.time()\n",
        "execution_time = after - before\n",
        "print(execution_time)"
      ],
      "metadata": {
        "colab": {
          "base_uri": "https://localhost:8080/"
        },
        "id": "Ohqaw2R7NliM",
        "outputId": "f46bad77-697c-41fb-8370-29471b976a6e"
      },
      "execution_count": null,
      "outputs": [
        {
          "output_type": "stream",
          "name": "stdout",
          "text": [
            "0.00015425682067871094\n"
          ]
        }
      ]
    },
    {
      "cell_type": "code",
      "source": [
        "# 83. Please write a program to shuffle and print the list [3,6,7,8].\n",
        "# Hints: Use shuffle() function to shuffle a list\n",
        "import random\n",
        "\n",
        "lst = [3,6,7,8]\n",
        "random.shuffle(lst)\n",
        "print(lst)\n"
      ],
      "metadata": {
        "colab": {
          "base_uri": "https://localhost:8080/"
        },
        "id": "a9gjCoMCNlft",
        "outputId": "e4fff737-cf26-403b-f14b-9ca7632b218f"
      },
      "execution_count": null,
      "outputs": [
        {
          "output_type": "stream",
          "name": "stdout",
          "text": [
            "[6, 3, 8, 7]\n"
          ]
        }
      ]
    },
    {
      "cell_type": "code",
      "source": [
        "# 84. Please write a program to shuffle and print the list [3,6,7,8].\n",
        "# Hints: Use shuffle() function to shuffle a list.\n",
        "import random\n",
        "\n",
        "lst = [3,6,7,8]\n",
        "random.shuffle(lst)\n",
        "print(lst)"
      ],
      "metadata": {
        "colab": {
          "base_uri": "https://localhost:8080/"
        },
        "id": "Udvh8jSMNldD",
        "outputId": "ee96e9c9-fe93-467e-d5ee-e0632c1e3c54"
      },
      "execution_count": null,
      "outputs": [
        {
          "output_type": "stream",
          "name": "stdout",
          "text": [
            "[8, 3, 7, 6]\n"
          ]
        }
      ]
    },
    {
      "cell_type": "code",
      "source": [
        "# 85. Please write a program to generate all sentences where subject is in [\"I\", \"You\"] and\n",
        "# verb is in [\"Play\", \"Love\"] and the object is in [\"Hockey\",\"Football\"].\n",
        "# Hints: Use list[index] notation to get a element from a list.\n",
        "\n",
        "subjects=[\"I\", \"You\"]\n",
        "verbs=[\"Play\", \"Love\"]\n",
        "objects=[\"Hockey\",\"Football\"]\n",
        "for i in range(len(subjects)):\n",
        "    for j in range(len(verbs)):\n",
        "        for k in range(len(objects)):\n",
        "            sentence = \"%s %s %s.\" % (subjects[i], verbs[j], objects[k])\n",
        "            print (sentence)"
      ],
      "metadata": {
        "colab": {
          "base_uri": "https://localhost:8080/"
        },
        "id": "PIuAiCzmNlar",
        "outputId": "d77a6827-e502-40fc-bdba-b4c916f21d2e"
      },
      "execution_count": null,
      "outputs": [
        {
          "output_type": "stream",
          "name": "stdout",
          "text": [
            "I Play Hockey.\n",
            "I Play Football.\n",
            "I Love Hockey.\n",
            "I Love Football.\n",
            "You Play Hockey.\n",
            "You Play Football.\n",
            "You Love Hockey.\n",
            "You Love Football.\n"
          ]
        }
      ]
    },
    {
      "cell_type": "code",
      "source": [
        "# 86. Please write a program to print the list after removing delete even numbersin\n",
        "# [5,6,77,45,22,12,24].\n",
        "li = [5,6,77,45,22,12,24]\n",
        "lst = list(filter(lambda n:n%2!=0,li))\n",
        "print(lst)"
      ],
      "metadata": {
        "colab": {
          "base_uri": "https://localhost:8080/"
        },
        "id": "fnzj-81QNlYE",
        "outputId": "7f274589-1068-41fd-ad45-bde145eb4db7"
      },
      "execution_count": null,
      "outputs": [
        {
          "output_type": "stream",
          "name": "stdout",
          "text": [
            "[5, 77, 45]\n"
          ]
        }
      ]
    },
    {
      "cell_type": "code",
      "source": [
        "# 87. By using list comprehension, please write a program to print the list afterremoving\n",
        "# delete numbers which are divisible by 5 and 7 in [12,24,35,70,88,120,155].\n",
        "# Hints: Use list comprehension to delete a bunch of element from a list.\n",
        "li = [12,24,35,70,88,120,155]\n",
        "li = [x for x in li if x % 35!=0]\n",
        "print(li)"
      ],
      "metadata": {
        "colab": {
          "base_uri": "https://localhost:8080/"
        },
        "id": "gQFin2noNlVj",
        "outputId": "c8040636-294b-4374-e099-11d0518fc71c"
      },
      "execution_count": null,
      "outputs": [
        {
          "output_type": "stream",
          "name": "stdout",
          "text": [
            "[12, 24, 88, 120, 155]\n"
          ]
        }
      ]
    },
    {
      "cell_type": "code",
      "source": [
        "# 88. By using list comprehension, please write a program to print the list after removing the\n",
        "# 0th, 2nd, 4th,6th numbers in [12,24,35,70,88,120,155].\n",
        "# Hints: Use list comprehension to delete a bunch of element from a list. Use enumerate() to\n",
        "# get (index, value) tuple.\n",
        "li = [12,24,35,70,88,120,155]\n",
        "li = [li[i] for i in range(len(li)) if i%2 != 0 and i <= 6]\n",
        "print(li)"
      ],
      "metadata": {
        "colab": {
          "base_uri": "https://localhost:8080/"
        },
        "id": "d_EdyINQNlTL",
        "outputId": "4256d9f4-6b39-4cc0-e47d-baf8668f5a71"
      },
      "execution_count": null,
      "outputs": [
        {
          "output_type": "stream",
          "name": "stdout",
          "text": [
            "[24, 70, 120]\n"
          ]
        }
      ]
    },
    {
      "cell_type": "code",
      "source": [
        "# 89. By using list comprehension, please write a program generate a 3*5*8 3D array whose\n",
        "# each element is 0.\n",
        "# Hints: Use list comprehension to make an array.\n",
        "array = [[ [0 for col in range(8)] for col in range(5)] for row in range(3)]\n",
        "print (array)"
      ],
      "metadata": {
        "colab": {
          "base_uri": "https://localhost:8080/"
        },
        "id": "CPWeaukANlQr",
        "outputId": "1bc8bbd5-db3c-416d-e121-959f7360302d"
      },
      "execution_count": null,
      "outputs": [
        {
          "output_type": "stream",
          "name": "stdout",
          "text": [
            "[[[0, 0, 0, 0, 0, 0, 0, 0], [0, 0, 0, 0, 0, 0, 0, 0], [0, 0, 0, 0, 0, 0, 0, 0], [0, 0, 0, 0, 0, 0, 0, 0], [0, 0, 0, 0, 0, 0, 0, 0]], [[0, 0, 0, 0, 0, 0, 0, 0], [0, 0, 0, 0, 0, 0, 0, 0], [0, 0, 0, 0, 0, 0, 0, 0], [0, 0, 0, 0, 0, 0, 0, 0], [0, 0, 0, 0, 0, 0, 0, 0]], [[0, 0, 0, 0, 0, 0, 0, 0], [0, 0, 0, 0, 0, 0, 0, 0], [0, 0, 0, 0, 0, 0, 0, 0], [0, 0, 0, 0, 0, 0, 0, 0], [0, 0, 0, 0, 0, 0, 0, 0]]]\n"
          ]
        }
      ]
    },
    {
      "cell_type": "code",
      "source": [
        "# 90. By using list comprehension, please write a program to print the list after removing the\n",
        "# 0th,4th,5th numbers in [12,24,35,70,88,120,155].\n",
        "# Hints: Use list comprehension to delete a bunch of element from a list. Use enumerate() to\n",
        "# get (index, value) tuple.\n",
        "\n",
        "li = [12,24,35,70,88,120,155]\n",
        "li = [li[i] for i in range(len(li)) if i not in (0,4,5)]\n",
        "print(li)"
      ],
      "metadata": {
        "colab": {
          "base_uri": "https://localhost:8080/"
        },
        "id": "15N37rXBNlOU",
        "outputId": "c2466e5e-258c-48af-9a91-9aa0c78eb4e8"
      },
      "execution_count": null,
      "outputs": [
        {
          "output_type": "stream",
          "name": "stdout",
          "text": [
            "[24, 35, 70, 155]\n"
          ]
        }
      ]
    },
    {
      "cell_type": "code",
      "source": [
        "# 91. By using list comprehension, please write a program to print the list after removing the\n",
        "# value 24 in [12,24,35,24,88,120,155].\n",
        "# Hints: Use list's remove method to delete a value.\n",
        "li = [12,24,35,24,88,120,155]\n",
        "li.remove(24)  # this will remove only the first occurrence of 24\n",
        "print(li)"
      ],
      "metadata": {
        "colab": {
          "base_uri": "https://localhost:8080/"
        },
        "id": "7coASLMtNlME",
        "outputId": "d92a3aaf-aa74-4246-d8ef-fa4438196955"
      },
      "execution_count": null,
      "outputs": [
        {
          "output_type": "stream",
          "name": "stdout",
          "text": [
            "[12, 35, 24, 88, 120, 155]\n"
          ]
        }
      ]
    },
    {
      "cell_type": "code",
      "source": [
        "# 92. With two given lists [1,3,6,78,35,55] and [12,24,35,24,88,120,155], write a program to\n",
        "# make a list whose elements are intersection of the above given lists.\n",
        "# Hints: Use set() and \"&=\" to do set intersection operation.\n",
        "list1 = [1,3,6,78,35,55]\n",
        "list2 = [12,24,35,24,88,120,155]\n",
        "set1= set(list1)\n",
        "set2= set(list2)\n",
        "intersection = set1 & set2\n",
        "print(intersection)"
      ],
      "metadata": {
        "colab": {
          "base_uri": "https://localhost:8080/"
        },
        "id": "LGI9cborNk8V",
        "outputId": "4cdb6fe7-7f52-4319-b925-8c2d7bd64737"
      },
      "execution_count": null,
      "outputs": [
        {
          "output_type": "stream",
          "name": "stdout",
          "text": [
            "{35}\n"
          ]
        }
      ]
    },
    {
      "cell_type": "code",
      "source": [
        "# 93. With a given list [12, 24, 35, 24, 88, 120, 155, 88, 120, 155], write a program to print this\n",
        "# list after removing all duplicate values with original order reserved.\n",
        "# Hints: Use set() to store a number of values without duplicate\n",
        "def removeDuplicate( li ):\n",
        "    newli=[]\n",
        "    seen = set()\n",
        "    for item in li:\n",
        "        if item not in seen:\n",
        "            seen.add( item )\n",
        "            newli.append(item)\n",
        "\n",
        "    return newli\n",
        "\n",
        "li=[12,24,35,24,88,120,155,88,120,155]\n",
        "print (removeDuplicate(li))"
      ],
      "metadata": {
        "colab": {
          "base_uri": "https://localhost:8080/"
        },
        "id": "OkAD-60iODFT",
        "outputId": "d4c4c73e-e7b0-4bde-d2e0-55faf70db05c"
      },
      "execution_count": null,
      "outputs": [
        {
          "output_type": "stream",
          "name": "stdout",
          "text": [
            "[12, 24, 35, 88, 120, 155]\n"
          ]
        }
      ]
    },
    {
      "cell_type": "code",
      "source": [
        "# 94. Define a class Person and its two child classes: Male and Female. All classes have a\n",
        "# method \"getGender\" which can print \"Male\" for Male class and \"Female\" for Femaleclass.\n",
        "# Hints: Use Subclass(Parentclass) to define a child class.\n",
        "class Person(object):\n",
        "    def __init__(self):\n",
        "        self.gender = \"unknown\"\n",
        "\n",
        "    def getGender(self):\n",
        "        print(self.gender)\n",
        "\n",
        "class Male(Person):\n",
        "    def __init__(self):\n",
        "        self.gender = \"Male\"\n",
        "\n",
        "class Female(Person):\n",
        "    def __init__(self):\n",
        "\t      self.gender = \"Female\"\n",
        "\n",
        "priya = Female()\n",
        "soraj = Male()\n",
        "priya.getGender()\n",
        "soraj.getGender()"
      ],
      "metadata": {
        "colab": {
          "base_uri": "https://localhost:8080/"
        },
        "id": "u7lH7nhRODCD",
        "outputId": "0c0e2e0a-54a5-4acf-a289-91bc3b017571"
      },
      "execution_count": null,
      "outputs": [
        {
          "output_type": "stream",
          "name": "stdout",
          "text": [
            "Female\n",
            "Male\n"
          ]
        }
      ]
    },
    {
      "cell_type": "code",
      "source": [
        "# 95. Please write a program which count and print the numbers of each character in a string\n",
        "# input by console.\n",
        "# If the following string is given as input to the program: abcdefgabc\n",
        "# Then, the output of the program should be:\n",
        "# a,2\n",
        "# c,2\n",
        "# b,2\n",
        "# e,1\n",
        "# d,1\n",
        "# g,1\n",
        "# f,1\n",
        "# Hints: Use dict to store key/value pairs. Use dict.get() method to lookup a key with default\n",
        "# value\n",
        "\n",
        "import string\n",
        "\n",
        "s = input()\n",
        "for letter in string.ascii_lowercase:\n",
        "    cnt = s.count(letter)\n",
        "    if cnt > 0:\n",
        "        print(\"{},{}\".format(letter,cnt))"
      ],
      "metadata": {
        "colab": {
          "base_uri": "https://localhost:8080/"
        },
        "id": "Q57nCZ1xOC_s",
        "outputId": "14259de2-68b0-457b-e523-c534f76b1995"
      },
      "execution_count": null,
      "outputs": [
        {
          "output_type": "stream",
          "name": "stdout",
          "text": [
            "abcdefgabc\n",
            "a,2\n",
            "b,2\n",
            "c,2\n",
            "d,1\n",
            "e,1\n",
            "f,1\n",
            "g,1\n"
          ]
        }
      ]
    },
    {
      "cell_type": "code",
      "source": [
        "# 96 Please write a program which accepts a string from console and print it in reverse order.\n",
        "# If the following string is given as input to the program: rise to vote sir\n",
        "# Then, the output of the program should be: ris etov ot esir\n",
        "# Hints: Use list[::-1] to iterate a list in a reverse order.\n",
        "s = input()\n",
        "s = ''.join(reversed(s))\n",
        "print(s)"
      ],
      "metadata": {
        "colab": {
          "base_uri": "https://localhost:8080/"
        },
        "id": "Y5xYS5IbOC81",
        "outputId": "7e7f22c3-0dad-4840-e32d-616d037e77b1"
      },
      "execution_count": null,
      "outputs": [
        {
          "output_type": "stream",
          "name": "stdout",
          "text": [
            "rise to vote sir\n",
            "ris etov ot esir\n"
          ]
        }
      ]
    },
    {
      "cell_type": "code",
      "source": [
        "# 97. Please write a program which accepts a string from console and print the characters\n",
        "# that have even indexes.\n",
        "# If the following string is given as input to the program: H1e2l3l4o5w6o7r8l9d\n",
        "# Then, the output of the program should be: Helloworld\n",
        "# Hints: Use list[::2] to iterate a list by step 2.\n",
        "s = \"H1e2l3l4o5w6o7r8l9d\"\n",
        "s = [ s[i] for i in range(len(s)) if i%2 ==0 ]\n",
        "print(''.join(s))"
      ],
      "metadata": {
        "colab": {
          "base_uri": "https://localhost:8080/"
        },
        "id": "UPnNE4fvOC4L",
        "outputId": "45551536-9991-419e-d736-5b343149c786"
      },
      "execution_count": null,
      "outputs": [
        {
          "output_type": "stream",
          "name": "stdout",
          "text": [
            "Helloworld\n"
          ]
        }
      ]
    },
    {
      "cell_type": "code",
      "source": [
        "# 98. Please write a program which prints all permutations of [1, 2, 3]\n",
        "# Hints: Use itertools.permutations() to get permutations oflist.\n",
        "import itertools\n",
        "print (list(itertools.permutations([1,2,3])))"
      ],
      "metadata": {
        "colab": {
          "base_uri": "https://localhost:8080/"
        },
        "id": "l5tsIJhIOCuj",
        "outputId": "5242e6c4-d4d7-4c73-c427-c492fe5dbc88"
      },
      "execution_count": null,
      "outputs": [
        {
          "output_type": "stream",
          "name": "stdout",
          "text": [
            "[(1, 2, 3), (1, 3, 2), (2, 1, 3), (2, 3, 1), (3, 1, 2), (3, 2, 1)]\n"
          ]
        }
      ]
    },
    {
      "cell_type": "code",
      "source": [
        "# 99. Write a program to solve a classic ancient Chinesepuzzle:\n",
        "# We count 35 heads and 94 legs among the chickens and rabbits in a farm. How many rabbits\n",
        "# and how many chickens do we have?\n",
        "# Hint: Use for loop to iterate all possible solutions\n",
        "\n",
        "i = 35\n",
        "j = 94\n",
        "y = (j-2*i)/2\n",
        "x = i-y\n",
        "print (x,y)"
      ],
      "metadata": {
        "colab": {
          "base_uri": "https://localhost:8080/"
        },
        "id": "cReUbE-yOOMT",
        "outputId": "5fe7b2ce-7302-43b0-8051-dad142521c2d"
      },
      "execution_count": null,
      "outputs": [
        {
          "output_type": "stream",
          "name": "stdout",
          "text": [
            "23.0 12.0\n"
          ]
        }
      ]
    },
    {
      "cell_type": "code",
      "source": [
        "# 100. Create a dictionary with phone numbers (phonebook = {“John”: 938477566,\"Jack”:\n",
        "# 938377264, \"Jill”: 947662781}). Add \"Jake\" to the phonebook with the phone number\n",
        "# 938273443, and remove Jill from the phonebook.\n",
        "phonebook = {\n",
        "   \"John\" : 938477566,\n",
        "   \"Jack\" : 938377264,\n",
        "   \"Jill\" : 947662781\n",
        "}\n",
        "phonebook.pop(\"Jill\")\n",
        "phonebook[\"jake\"] = 938273443\n",
        "\n",
        "print(phonebook)"
      ],
      "metadata": {
        "colab": {
          "base_uri": "https://localhost:8080/"
        },
        "id": "909jdePLOOCs",
        "outputId": "afac9f0f-9503-4ef3-b6d3-7d15dab84d0a"
      },
      "execution_count": null,
      "outputs": [
        {
          "output_type": "stream",
          "name": "stdout",
          "text": [
            "{'John': 938477566, 'Jack': 938377264, 'jake': 938273443}\n"
          ]
        }
      ]
    }
  ]
}